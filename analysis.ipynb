{
 "cells": [
  {
   "cell_type": "code",
   "execution_count": 1,
   "metadata": {},
   "outputs": [],
   "source": [
    "import pysam\n",
    "\n",
    "from pysam import VariantFile\n",
    "\n",
    "import pandas as pd\n",
    "\n",
    "from pyliftover import LiftOver"
   ]
  },
  {
   "cell_type": "markdown",
   "metadata": {},
   "source": [
    "## Variant calling from bcf:"
   ]
  },
  {
   "cell_type": "code",
   "execution_count": 5,
   "metadata": {},
   "outputs": [],
   "source": [
    "sample = \"sample\"\n",
    "#bcf_route = \"./arslantepe/\" + sample + \"/\" + sample + \"_Y\"\n",
    "bcf_route = \"./genomes/\" + sample + \"_Y\"\n",
    "\n",
    "bcf_in = VariantFile(bcf_route + \".vcf\")\n",
    "#bcf_in = VariantFile(bcf_route + \".bcf\");  # auto-detect input format\n",
    "#bcf_out = VariantFile('-', 'w', header=bcf_in.header)\n",
    "\n",
    "#for rec in bcf_in.fetch():\n",
    "#    bcf_out.write(rec)"
   ]
  },
  {
   "cell_type": "code",
   "execution_count": null,
   "metadata": {},
   "outputs": [],
   "source": [
    "df_0 = pd.read_csv(\"./genoma_prueba_all_calls.vcf\", sep='\\t', comment='#');\n",
    "df_0.head()"
   ]
  },
  {
   "cell_type": "code",
   "execution_count": null,
   "metadata": {},
   "outputs": [],
   "source": []
  },
  {
   "cell_type": "code",
   "execution_count": 3,
   "metadata": {},
   "outputs": [],
   "source": [
    "# I12162: J-Z2177(xPH185, FGC33287, FT50020, FT51478)\n",
    "# I3983: J-Z1847(xZ500, Z502, Z508, CTS3261, SK1336, Z462, Z7664, Z7658, FT8384, Z6271, Z28583, Y18824, Z488, PH4809, A25797, Z40570, Z40562, Z40560, PF7402, Z517)"
   ]
  },
  {
   "cell_type": "code",
   "execution_count": 6,
   "metadata": {},
   "outputs": [],
   "source": [
    "# Regiones a excluir:\n",
    "par1 = [1,2781479]\n",
    "cen = [10072350,11686750]\n",
    "dyz19 = [20054914,20351054]\n",
    "ppr = [26637971,26673210]\n",
    "par2 = [56887903,57217415]\n",
    "mutations_to_exclude = [\"C to T\", \"A to T\", \"G to C\", \"A to G\"]"
   ]
  },
  {
   "cell_type": "code",
   "execution_count": null,
   "metadata": {},
   "outputs": [],
   "source": [
    "print(bcf_in.header)"
   ]
  },
  {
   "cell_type": "code",
   "execution_count": null,
   "metadata": {},
   "outputs": [],
   "source": []
  },
  {
   "cell_type": "code",
   "execution_count": 7,
   "metadata": {},
   "outputs": [],
   "source": [
    "def check_region(position):\n",
    "    if (par1[0] <= position <= par1[1]):\n",
    "        i_reg = 'par1';\n",
    "    elif (cen[0] <= position <= cen[1]):\n",
    "        i_reg = 'cen';\n",
    "    elif (dyz19[0] <= position <= dyz19[1]):\n",
    "        i_reg = 'dyz19';\n",
    "    elif (ppr[0] <= position <= ppr[1]):\n",
    "        i_reg = 'ppr';\n",
    "    elif (par2[0] <= position <= par2[1]):\n",
    "        i_reg = 'par2';\n",
    "    else:\n",
    "        i_reg = '';\n",
    "    return i_reg\n",
    "def check_mutation(reference, genotype):\n",
    "    i_mut = '';\n",
    "    if (reference == 'C') & (genotype == 'T'):\n",
    "        i_mut = 'C to T deamination';\n",
    "    elif (reference == 'A') & (genotype == 'T'):\n",
    "        i_mut = 'A to T risk of strand misidentification';\n",
    "    elif (reference == 'G') & (genotype == 'C'):\n",
    "        i_mut = 'G to C risk of strand misidentification';\n",
    "    elif (reference == 'G') & (genotype == 'A'):\n",
    "        i_mut = 'G to A deamination';\n",
    "    return i_mut"
   ]
  },
  {
   "cell_type": "markdown",
   "metadata": {},
   "source": [
    "### Cambiando a hg38 y anotando regiones:"
   ]
  },
  {
   "cell_type": "code",
   "execution_count": 8,
   "metadata": {},
   "outputs": [],
   "source": [
    "# Cambiando a hg38 (sin excluir y anotando):\n",
    "vc_list = [];\n",
    "lo = LiftOver('hg19', 'hg38');\n",
    "for rec in bcf_in.fetch():\n",
    "    i_pos_0 = lo.convert_coordinate('chrY', int(rec.pos));\n",
    "    if i_pos_0 != []:\n",
    "        # Anotamos las posiciones no adecuadas para filogenia:\n",
    "        i_pos = int(i_pos_0[0][1]);            \n",
    "        i_reg = check_region(i_pos);\n",
    "        # Extraemos el genotipo:\n",
    "        i_gen_0 = rec.alts;\n",
    "        i_ref = rec.ref;\n",
    "        i_mut = '';\n",
    "        if i_gen_0 == None:\n",
    "            i_gen = i_ref;\n",
    "        else:\n",
    "            i_gen = i_gen_0[0];\n",
    "            i_mut = check_mutation(i_ref, i_gen);\n",
    "        # Creamos la lista:\n",
    "        vc_list.append([i_pos, rec.ref, rec.alts, i_gen, i_mut, i_reg, rec.qual]);\n",
    "    else:\n",
    "        vc_list.append([int(0), rec.ref, rec.alts, rec.alts, '', '', rec.qual]);"
   ]
  },
  {
   "cell_type": "code",
   "execution_count": 7,
   "metadata": {},
   "outputs": [
    {
     "data": {
      "text/plain": [
       "744699"
      ]
     },
     "execution_count": 7,
     "metadata": {},
     "output_type": "execute_result"
    }
   ],
   "source": [
    "len(vc_list)"
   ]
  },
  {
   "cell_type": "code",
   "execution_count": 5,
   "metadata": {},
   "outputs": [
    {
     "data": {
      "text/plain": [
       "{'Y'}"
      ]
     },
     "execution_count": 5,
     "metadata": {},
     "output_type": "execute_result"
    }
   ],
   "source": [
    "chromosomas_contenidos = [];\n",
    "for rec in bcf_in.fetch():\n",
    "        chromosomas_contenidos.append(rec.chrom);\n",
    "set(chromosomas_contenidos)"
   ]
  },
  {
   "cell_type": "markdown",
   "metadata": {},
   "source": [
    "### Cambiando a hg38 excluyendo regiones:"
   ]
  },
  {
   "cell_type": "code",
   "execution_count": null,
   "metadata": {},
   "outputs": [],
   "source": [
    "# Cambiando a hg38:\n",
    "vc_list = [];\n",
    "lo = LiftOver('hg19', 'hg38');\n",
    "for rec in bcf_in.fetch():\n",
    "    i_pos_0 = lo.convert_coordinate('chrY', int(rec.pos));\n",
    "    if i_pos_0 != []:    \n",
    "        i_pos = int(i_pos_0[0][1]);\n",
    "        if ~((par1[0] <= i_pos <= par1[1]) | (cen[0] <= i_pos <= cen[1]) | (dyz19[0] <= i_pos <= dyz19[1]) |\n",
    "           (ppr[0] <= i_pos <= ppr[1]) | (par2[0] <= i_pos <= par2[1])):\n",
    "            vc_list.append([i_pos, rec.ref, rec.alts, rec.qual]);\n",
    "    else:\n",
    "        vc_list.append([int(0), rec.ref, rec.alts, rec.qual]);"
   ]
  },
  {
   "cell_type": "markdown",
   "metadata": {},
   "source": [
    "### Sin convertir excluyendo regiones:"
   ]
  },
  {
   "cell_type": "code",
   "execution_count": 13,
   "metadata": {},
   "outputs": [
    {
     "ename": "SyntaxError",
     "evalue": "invalid syntax (1364058564.py, line 4)",
     "output_type": "error",
     "traceback": [
      "\u001b[0;36m  Input \u001b[0;32mIn [13]\u001b[0;36m\u001b[0m\n\u001b[0;31m    if rec.chrom\u001b[0m\n\u001b[0m                ^\u001b[0m\n\u001b[0;31mSyntaxError\u001b[0m\u001b[0;31m:\u001b[0m invalid syntax\n"
     ]
    }
   ],
   "source": [
    "# Sin convertir:\n",
    "vc_list = [];\n",
    "for rec in bcf_in.fetch():\n",
    "    if rec.chrom:\n",
    "        i_pos_0 = int(rec.pos);\n",
    "        if ~((par1[0] <= i_pos <= par1[1]) | (cen[0] <= i_pos <= cen[1]) | (dyz19[0] <= i_pos <= dyz19[1]) |\n",
    "        (ppr[0] <= i_pos <= ppr[1]) | (par2[0] <= i_pos <= par2[1])):\n",
    "            vc_list.append([i_pos, rec.ref, rec.alts, rec.qual]);"
   ]
  },
  {
   "cell_type": "markdown",
   "metadata": {},
   "source": [
    "### Sin convertir sin excluir regiones:"
   ]
  },
  {
   "cell_type": "code",
   "execution_count": 8,
   "metadata": {},
   "outputs": [],
   "source": [
    "# Sin convertir:\n",
    "vc_list = [];\n",
    "for rec in bcf_in.fetch():\n",
    "    if rec.chrom:\n",
    "        i_pos = int(rec.pos);\n",
    "        vc_list.append([i_pos, rec.ref, rec.alts, rec.qual]);"
   ]
  },
  {
   "cell_type": "code",
   "execution_count": 21,
   "metadata": {},
   "outputs": [
    {
     "data": {
      "text/plain": [
       "154"
      ]
     },
     "execution_count": 21,
     "metadata": {},
     "output_type": "execute_result"
    }
   ],
   "source": [
    "len(vc_list)"
   ]
  },
  {
   "cell_type": "markdown",
   "metadata": {},
   "source": [
    "### Generamos un .csv anotado con las variantes:"
   ]
  },
  {
   "cell_type": "code",
   "execution_count": 9,
   "metadata": {},
   "outputs": [],
   "source": [
    "# Generamos un dataframe auxiliar a partir del bcf:\n",
    "df = pd.DataFrame(vc_list, columns =['Position', 'Ref', 'Alt', 'Genotype', 'problematic_mutation', 'problematic_region', 'Qual'], dtype = str);\n",
    "df = df.rename(columns={'Position': 'start'});\n",
    "df = df.astype({\"start\": int});"
   ]
  },
  {
   "cell_type": "code",
   "execution_count": 16,
   "metadata": {},
   "outputs": [
    {
     "data": {
      "text/html": [
       "<div>\n",
       "<style scoped>\n",
       "    .dataframe tbody tr th:only-of-type {\n",
       "        vertical-align: middle;\n",
       "    }\n",
       "\n",
       "    .dataframe tbody tr th {\n",
       "        vertical-align: top;\n",
       "    }\n",
       "\n",
       "    .dataframe thead th {\n",
       "        text-align: right;\n",
       "    }\n",
       "</style>\n",
       "<table border=\"1\" class=\"dataframe\">\n",
       "  <thead>\n",
       "    <tr style=\"text-align: right;\">\n",
       "      <th></th>\n",
       "      <th>chr</th>\n",
       "      <th>Name</th>\n",
       "      <th>haplogroup</th>\n",
       "      <th>start</th>\n",
       "      <th>mutation</th>\n",
       "      <th>allele_anc</th>\n",
       "      <th>allele_der</th>\n",
       "      <th>ISOGG_haplogroup</th>\n",
       "    </tr>\n",
       "  </thead>\n",
       "  <tbody>\n",
       "    <tr>\n",
       "      <th>4</th>\n",
       "      <td>chry</td>\n",
       "      <td>FGC27841</td>\n",
       "      <td>A0-T</td>\n",
       "      <td>21024940</td>\n",
       "      <td>A-&gt;G</td>\n",
       "      <td>G</td>\n",
       "      <td>A</td>\n",
       "      <td>NaN</td>\n",
       "    </tr>\n",
       "    <tr>\n",
       "      <th>5</th>\n",
       "      <td>chry</td>\n",
       "      <td>L1113</td>\n",
       "      <td>A0-T</td>\n",
       "      <td>8599372</td>\n",
       "      <td>A-&gt;G</td>\n",
       "      <td>G</td>\n",
       "      <td>A</td>\n",
       "      <td>NaN</td>\n",
       "    </tr>\n",
       "    <tr>\n",
       "      <th>12</th>\n",
       "      <td>chry</td>\n",
       "      <td>YP2729</td>\n",
       "      <td>A0-T</td>\n",
       "      <td>8818796</td>\n",
       "      <td>C-&gt;T</td>\n",
       "      <td>T</td>\n",
       "      <td>C</td>\n",
       "      <td>NaN</td>\n",
       "    </tr>\n",
       "    <tr>\n",
       "      <th>14</th>\n",
       "      <td>chry</td>\n",
       "      <td>FGC26799</td>\n",
       "      <td>A0-T</td>\n",
       "      <td>14986183</td>\n",
       "      <td>T-&gt;C</td>\n",
       "      <td>C</td>\n",
       "      <td>T</td>\n",
       "      <td>NaN</td>\n",
       "    </tr>\n",
       "    <tr>\n",
       "      <th>15</th>\n",
       "      <td>chry</td>\n",
       "      <td>YP3459</td>\n",
       "      <td>A0-T</td>\n",
       "      <td>18679261</td>\n",
       "      <td>G-&gt;A</td>\n",
       "      <td>A</td>\n",
       "      <td>G</td>\n",
       "      <td>NaN</td>\n",
       "    </tr>\n",
       "  </tbody>\n",
       "</table>\n",
       "</div>"
      ],
      "text/plain": [
       "     chr      Name haplogroup     start mutation allele_anc allele_der  \\\n",
       "4   chry  FGC27841       A0-T  21024940     A->G          G          A   \n",
       "5   chry     L1113       A0-T   8599372     A->G          G          A   \n",
       "12  chry    YP2729       A0-T   8818796     C->T          T          C   \n",
       "14  chry  FGC26799       A0-T  14986183     T->C          C          T   \n",
       "15  chry    YP3459       A0-T  18679261     G->A          A          G   \n",
       "\n",
       "   ISOGG_haplogroup  \n",
       "4               NaN  \n",
       "5               NaN  \n",
       "12              NaN  \n",
       "14              NaN  \n",
       "15              NaN  "
      ]
     },
     "execution_count": 16,
     "metadata": {},
     "output_type": "execute_result"
    }
   ],
   "source": [
    "# Yleaf:\n",
    "anotacion = \"yleaf\"\n",
    "df_yleaf = pd.read_csv('SNP_annotations_hg38/yleaf_new_positions.txt', sep=\"\\t\", header=None)\n",
    "df_yleaf.columns = ['chr', 'Name', 'haplogroup', 'start', 'mutation', 'allele_anc', 'allele_der'];\n",
    "\n",
    "#Ybrowse:\n",
    "df_ybrowse = pd.read_csv('SNP_annotations_hg38/ybrowse_snps_hg38.csv')[(['seqid', 'Name', 'ISOGG_haplogroup', 'start', 'mutation', 'allele_anc', 'allele_der'])];\n",
    "df_ybrowse = df_ybrowse.rename(columns={'seqid': 'chr'});\n",
    "\n",
    "# Seleccionamos todos los de Yleaf en el sample más los de Ybrowse que están en el sample pero no en Yleaf:\n",
    "df_int_yleaf = df_yleaf[df_yleaf[\"start\"].isin(df[\"start\"].tolist())]\n",
    "df_int_ybrowse_no_yleaf = df_ybrowse[(df_ybrowse[\"start\"].isin(df[\"start\"].tolist())) & ~(df_ybrowse[\"start\"].isin(df_int_yleaf[\"start\"].tolist()))]\n",
    "df_anotation = pd.concat([df_int_yleaf, df_int_ybrowse_no_yleaf])\n",
    "df_anotation.head()"
   ]
  },
  {
   "cell_type": "code",
   "execution_count": 17,
   "metadata": {},
   "outputs": [
    {
     "data": {
      "text/html": [
       "<div>\n",
       "<style scoped>\n",
       "    .dataframe tbody tr th:only-of-type {\n",
       "        vertical-align: middle;\n",
       "    }\n",
       "\n",
       "    .dataframe tbody tr th {\n",
       "        vertical-align: top;\n",
       "    }\n",
       "\n",
       "    .dataframe thead th {\n",
       "        text-align: right;\n",
       "    }\n",
       "</style>\n",
       "<table border=\"1\" class=\"dataframe\">\n",
       "  <thead>\n",
       "    <tr style=\"text-align: right;\">\n",
       "      <th></th>\n",
       "      <th>start</th>\n",
       "      <th>Ref</th>\n",
       "      <th>Alt</th>\n",
       "      <th>Genotype</th>\n",
       "      <th>problematic_mutation</th>\n",
       "      <th>problematic_region</th>\n",
       "      <th>Qual</th>\n",
       "      <th>chr</th>\n",
       "      <th>Name</th>\n",
       "      <th>haplogroup</th>\n",
       "      <th>mutation</th>\n",
       "      <th>allele_anc</th>\n",
       "      <th>allele_der</th>\n",
       "      <th>ISOGG_haplogroup</th>\n",
       "    </tr>\n",
       "  </thead>\n",
       "  <tbody>\n",
       "    <tr>\n",
       "      <th>473493</th>\n",
       "      <td>16918433</td>\n",
       "      <td>T</td>\n",
       "      <td>None</td>\n",
       "      <td>T</td>\n",
       "      <td></td>\n",
       "      <td></td>\n",
       "      <td>99.5873031616211</td>\n",
       "      <td>chrY</td>\n",
       "      <td>FT144146</td>\n",
       "      <td>NaN</td>\n",
       "      <td>T to G</td>\n",
       "      <td>T</td>\n",
       "      <td>G</td>\n",
       "      <td>unknown</td>\n",
       "    </tr>\n",
       "    <tr>\n",
       "      <th>218077</th>\n",
       "      <td>10081887</td>\n",
       "      <td>A</td>\n",
       "      <td>None</td>\n",
       "      <td>A</td>\n",
       "      <td></td>\n",
       "      <td>cen</td>\n",
       "      <td>99.5873031616211</td>\n",
       "      <td>chrY</td>\n",
       "      <td>MF707919</td>\n",
       "      <td>NaN</td>\n",
       "      <td>A to G</td>\n",
       "      <td>A</td>\n",
       "      <td>G</td>\n",
       "      <td>O</td>\n",
       "    </tr>\n",
       "    <tr>\n",
       "      <th>374044</th>\n",
       "      <td>14409000</td>\n",
       "      <td>C</td>\n",
       "      <td>None</td>\n",
       "      <td>C</td>\n",
       "      <td></td>\n",
       "      <td></td>\n",
       "      <td>99.5873031616211</td>\n",
       "      <td>chrY</td>\n",
       "      <td>MF722281</td>\n",
       "      <td>NaN</td>\n",
       "      <td>C to A</td>\n",
       "      <td>C</td>\n",
       "      <td>A</td>\n",
       "      <td>O</td>\n",
       "    </tr>\n",
       "    <tr>\n",
       "      <th>110233</th>\n",
       "      <td>6933088</td>\n",
       "      <td>T</td>\n",
       "      <td>None</td>\n",
       "      <td>T</td>\n",
       "      <td></td>\n",
       "      <td></td>\n",
       "      <td>99.5873031616211</td>\n",
       "      <td>chrY</td>\n",
       "      <td>Y298791</td>\n",
       "      <td>NaN</td>\n",
       "      <td>T to C</td>\n",
       "      <td>T</td>\n",
       "      <td>C</td>\n",
       "      <td>T</td>\n",
       "    </tr>\n",
       "    <tr>\n",
       "      <th>251444</th>\n",
       "      <td>11552222</td>\n",
       "      <td>A</td>\n",
       "      <td>None</td>\n",
       "      <td>A</td>\n",
       "      <td></td>\n",
       "      <td>cen</td>\n",
       "      <td>99.5873031616211</td>\n",
       "      <td>chrY</td>\n",
       "      <td>BY89365</td>\n",
       "      <td>NaN</td>\n",
       "      <td>A to G</td>\n",
       "      <td>A</td>\n",
       "      <td>G</td>\n",
       "      <td>unknown</td>\n",
       "    </tr>\n",
       "  </tbody>\n",
       "</table>\n",
       "</div>"
      ],
      "text/plain": [
       "           start Ref   Alt Genotype problematic_mutation problematic_region  \\\n",
       "473493  16918433   T  None        T                                           \n",
       "218077  10081887   A  None        A                                     cen   \n",
       "374044  14409000   C  None        C                                           \n",
       "110233   6933088   T  None        T                                           \n",
       "251444  11552222   A  None        A                                     cen   \n",
       "\n",
       "                    Qual   chr      Name haplogroup mutation allele_anc  \\\n",
       "473493  99.5873031616211  chrY  FT144146        NaN   T to G          T   \n",
       "218077  99.5873031616211  chrY  MF707919        NaN   A to G          A   \n",
       "374044  99.5873031616211  chrY  MF722281        NaN   C to A          C   \n",
       "110233  99.5873031616211  chrY   Y298791        NaN   T to C          T   \n",
       "251444  99.5873031616211  chrY   BY89365        NaN   A to G          A   \n",
       "\n",
       "       allele_der ISOGG_haplogroup  \n",
       "473493          G          unknown  \n",
       "218077          G                O  \n",
       "374044          A                O  \n",
       "110233          C                T  \n",
       "251444          G          unknown  "
      ]
     },
     "execution_count": 17,
     "metadata": {},
     "output_type": "execute_result"
    }
   ],
   "source": [
    "# Mezclamos:\n",
    "df_final = pd.merge(df, df_anotation, on='start')\n",
    "# En el archivo de ybrowse hay algunas posiciones con distinta referencia (quizá por backmutación)\n",
    "# nos quedamos solo con las que coinciden con nuestra referencia:\n",
    "df_final = df_final[df_final['Ref'] == df_final['allele_anc']]\n",
    "#mutations_to_exclude = [\"C to T\", \"A to T\", \"G to C\", \"A to G\"];\n",
    "#df_final = df_final[~df_final[\"mutation\"].isin(mutations_to_exclude)];\n",
    "df_final = df_final.sort_values(by=['Qual'], ascending=False)\n",
    "# Guardamos:\n",
    "df_final.to_csv(bcf_route + \"_annotated_\" + anotacion + \".csv\", encoding='utf-8', index=False)\n",
    "df_final.head()"
   ]
  },
  {
   "cell_type": "code",
   "execution_count": 66,
   "metadata": {},
   "outputs": [
    {
     "data": {
      "text/html": [
       "<div>\n",
       "<style scoped>\n",
       "    .dataframe tbody tr th:only-of-type {\n",
       "        vertical-align: middle;\n",
       "    }\n",
       "\n",
       "    .dataframe tbody tr th {\n",
       "        vertical-align: top;\n",
       "    }\n",
       "\n",
       "    .dataframe thead th {\n",
       "        text-align: right;\n",
       "    }\n",
       "</style>\n",
       "<table border=\"1\" class=\"dataframe\">\n",
       "  <thead>\n",
       "    <tr style=\"text-align: right;\">\n",
       "      <th></th>\n",
       "      <th>start</th>\n",
       "      <th>Ref</th>\n",
       "      <th>Alt</th>\n",
       "      <th>Genotype</th>\n",
       "      <th>problematic_mutation</th>\n",
       "      <th>problematic_region</th>\n",
       "      <th>Qual</th>\n",
       "      <th>chr</th>\n",
       "      <th>Name</th>\n",
       "      <th>ISOGG_haplogroup</th>\n",
       "      <th>mutation</th>\n",
       "      <th>allele_anc</th>\n",
       "      <th>allele_der</th>\n",
       "    </tr>\n",
       "  </thead>\n",
       "  <tbody>\n",
       "    <tr>\n",
       "      <th>41203</th>\n",
       "      <td>16070426</td>\n",
       "      <td>G</td>\n",
       "      <td>None</td>\n",
       "      <td>G</td>\n",
       "      <td></td>\n",
       "      <td></td>\n",
       "      <td>148.0</td>\n",
       "      <td>chry</td>\n",
       "      <td>Z6065</td>\n",
       "      <td>J2a1a1a2a</td>\n",
       "      <td>G-&gt;T</td>\n",
       "      <td>G</td>\n",
       "      <td>T</td>\n",
       "    </tr>\n",
       "  </tbody>\n",
       "</table>\n",
       "</div>"
      ],
      "text/plain": [
       "          start Ref   Alt Genotype problematic_mutation problematic_region  \\\n",
       "41203  16070426   G  None        G                                           \n",
       "\n",
       "        Qual   chr   Name ISOGG_haplogroup mutation allele_anc allele_der  \n",
       "41203  148.0  chry  Z6065        J2a1a1a2a     G->T          G          T  "
      ]
     },
     "execution_count": 66,
     "metadata": {},
     "output_type": "execute_result"
    }
   ],
   "source": [
    "df_final[df_final[\"Name\"] == \"Z6065\"]"
   ]
  },
  {
   "cell_type": "code",
   "execution_count": 15,
   "metadata": {},
   "outputs": [
    {
     "data": {
      "text/plain": [
       "{('A',), ('C',), ('G',), ('T',), ('TTC',), None}"
      ]
     },
     "execution_count": 15,
     "metadata": {},
     "output_type": "execute_result"
    }
   ],
   "source": [
    "set(df_final[\"Alt\"].tolist())"
   ]
  },
  {
   "cell_type": "code",
   "execution_count": 28,
   "metadata": {},
   "outputs": [],
   "source": [
    "df_final_variants = df_final[~(df_final[\"Alt\"].isnull())]"
   ]
  },
  {
   "cell_type": "code",
   "execution_count": 29,
   "metadata": {},
   "outputs": [
    {
     "data": {
      "text/plain": [
       "44"
      ]
     },
     "execution_count": 29,
     "metadata": {},
     "output_type": "execute_result"
    }
   ],
   "source": [
    "len(df_final_variants)"
   ]
  },
  {
   "cell_type": "code",
   "execution_count": 30,
   "metadata": {},
   "outputs": [],
   "source": [
    "df_final_variants.to_csv(bcf_route + \"_annotated_variants_\" + anotacion + \".csv\", encoding='utf-8');"
   ]
  },
  {
   "cell_type": "code",
   "execution_count": 31,
   "metadata": {},
   "outputs": [],
   "source": [
    "df_final = df_final_variants"
   ]
  },
  {
   "cell_type": "markdown",
   "metadata": {},
   "source": [
    "### Preparamos un .txt con las posiciones observadas para meter en CladeFinder:"
   ]
  },
  {
   "cell_type": "code",
   "execution_count": 26,
   "metadata": {},
   "outputs": [
    {
     "name": "stderr",
     "output_type": "stream",
     "text": [
      "/tmp/ipykernel_37762/2638871406.py:10: SettingWithCopyWarning: \n",
      "A value is trying to be set on a copy of a slice from a DataFrame.\n",
      "Try using .loc[row_indexer,col_indexer] = value instead\n",
      "\n",
      "See the caveats in the documentation: https://pandas.pydata.org/pandas-docs/stable/user_guide/indexing.html#returning-a-view-versus-a-copy\n",
      "  df_clade_finder[\"Qual\"] = df_clade_finder[\"Qual\"].astype(float)\n"
     ]
    },
    {
     "data": {
      "text/html": [
       "<div>\n",
       "<style scoped>\n",
       "    .dataframe tbody tr th:only-of-type {\n",
       "        vertical-align: middle;\n",
       "    }\n",
       "\n",
       "    .dataframe tbody tr th {\n",
       "        vertical-align: top;\n",
       "    }\n",
       "\n",
       "    .dataframe thead th {\n",
       "        text-align: right;\n",
       "    }\n",
       "</style>\n",
       "<table border=\"1\" class=\"dataframe\">\n",
       "  <thead>\n",
       "    <tr style=\"text-align: right;\">\n",
       "      <th></th>\n",
       "      <th>start</th>\n",
       "      <th>Ref</th>\n",
       "      <th>Alt</th>\n",
       "      <th>Genotype</th>\n",
       "      <th>problematic_mutation</th>\n",
       "      <th>problematic_region</th>\n",
       "      <th>Qual</th>\n",
       "      <th>chr</th>\n",
       "      <th>Name</th>\n",
       "      <th>haplogroup</th>\n",
       "      <th>mutation</th>\n",
       "      <th>allele_anc</th>\n",
       "      <th>allele_der</th>\n",
       "      <th>ISOGG_haplogroup</th>\n",
       "    </tr>\n",
       "  </thead>\n",
       "  <tbody>\n",
       "    <tr>\n",
       "      <th>578851</th>\n",
       "      <td>20500719</td>\n",
       "      <td>C</td>\n",
       "      <td>None</td>\n",
       "      <td>C</td>\n",
       "      <td></td>\n",
       "      <td></td>\n",
       "      <td>96.587303</td>\n",
       "      <td>chry</td>\n",
       "      <td>ZS5814</td>\n",
       "      <td>J-FGC23922</td>\n",
       "      <td>C-&gt;T</td>\n",
       "      <td>C</td>\n",
       "      <td>T</td>\n",
       "      <td>NaN</td>\n",
       "    </tr>\n",
       "    <tr>\n",
       "      <th>276251</th>\n",
       "      <td>11969721</td>\n",
       "      <td>G</td>\n",
       "      <td>None</td>\n",
       "      <td>G</td>\n",
       "      <td></td>\n",
       "      <td></td>\n",
       "      <td>96.587303</td>\n",
       "      <td>chry</td>\n",
       "      <td>Y90265</td>\n",
       "      <td>J-Y84349</td>\n",
       "      <td>G-&gt;A</td>\n",
       "      <td>G</td>\n",
       "      <td>A</td>\n",
       "      <td>NaN</td>\n",
       "    </tr>\n",
       "    <tr>\n",
       "      <th>276626</th>\n",
       "      <td>11976489</td>\n",
       "      <td>G</td>\n",
       "      <td>None</td>\n",
       "      <td>G</td>\n",
       "      <td></td>\n",
       "      <td></td>\n",
       "      <td>96.587303</td>\n",
       "      <td>chry</td>\n",
       "      <td>Y90304</td>\n",
       "      <td>J-Y81380</td>\n",
       "      <td>G-&gt;A</td>\n",
       "      <td>G</td>\n",
       "      <td>A</td>\n",
       "      <td>NaN</td>\n",
       "    </tr>\n",
       "    <tr>\n",
       "      <th>279905</th>\n",
       "      <td>12037190</td>\n",
       "      <td>A</td>\n",
       "      <td>None</td>\n",
       "      <td>A</td>\n",
       "      <td></td>\n",
       "      <td></td>\n",
       "      <td>96.587303</td>\n",
       "      <td>chry</td>\n",
       "      <td>Y235758</td>\n",
       "      <td>J-FTA15001</td>\n",
       "      <td>A-&gt;C</td>\n",
       "      <td>A</td>\n",
       "      <td>C</td>\n",
       "      <td>NaN</td>\n",
       "    </tr>\n",
       "    <tr>\n",
       "      <th>268095</th>\n",
       "      <td>11821403</td>\n",
       "      <td>C</td>\n",
       "      <td>None</td>\n",
       "      <td>C</td>\n",
       "      <td></td>\n",
       "      <td></td>\n",
       "      <td>96.587303</td>\n",
       "      <td>chry</td>\n",
       "      <td>Y166899</td>\n",
       "      <td>J-Y166886</td>\n",
       "      <td>C-&gt;A</td>\n",
       "      <td>C</td>\n",
       "      <td>A</td>\n",
       "      <td>NaN</td>\n",
       "    </tr>\n",
       "  </tbody>\n",
       "</table>\n",
       "</div>"
      ],
      "text/plain": [
       "           start Ref   Alt Genotype problematic_mutation problematic_region  \\\n",
       "578851  20500719   C  None        C                                           \n",
       "276251  11969721   G  None        G                                           \n",
       "276626  11976489   G  None        G                                           \n",
       "279905  12037190   A  None        A                                           \n",
       "268095  11821403   C  None        C                                           \n",
       "\n",
       "             Qual   chr     Name  haplogroup mutation allele_anc allele_der  \\\n",
       "578851  96.587303  chry   ZS5814  J-FGC23922     C->T          C          T   \n",
       "276251  96.587303  chry   Y90265    J-Y84349     G->A          G          A   \n",
       "276626  96.587303  chry   Y90304    J-Y81380     G->A          G          A   \n",
       "279905  96.587303  chry  Y235758  J-FTA15001     A->C          A          C   \n",
       "268095  96.587303  chry  Y166899   J-Y166886     C->A          C          A   \n",
       "\n",
       "       ISOGG_haplogroup  \n",
       "578851              NaN  \n",
       "276251              NaN  \n",
       "276626              NaN  \n",
       "279905              NaN  \n",
       "268095              NaN  "
      ]
     },
     "execution_count": 26,
     "metadata": {},
     "output_type": "execute_result"
    }
   ],
   "source": [
    "basic_haplogroup_prediction = \"J-\"\n",
    "posiciones_problematicas = ['par1', 'cen', 'dyz19', 'ppr', 'par2'];\n",
    "#mutaciones_problematicas = ['C to T deamination', 'A to T risk of strand misidentification', 'G to C risk of strand misidentification', 'G to A deamination'];\n",
    "mutaciones_problematicas = ['C to T deamination', 'G to A deamination'];\n",
    "# Filtramos las posiciones ancestrales para que correspondan a la predicción basica:\n",
    "cond_anc_in_pred = (df_final[\"haplogroup\"].str.contains(basic_haplogroup_prediction)) & (df_final[\"Alt\"].isnull())\n",
    "cond_der_all = ~(df_final[\"Alt\"].isnull()) & ~(df_final[\"problematic_mutation\"].isin(mutaciones_problematicas))\n",
    "df_clade_finder = df_final[cond_anc_in_pred | cond_der_all]\n",
    "# Convert Qual column to float:\n",
    "df_clade_finder[\"Qual\"] = df_clade_finder[\"Qual\"].astype(float)\n",
    "# Filter Qual column by values higher than 20:\n",
    "cond_qual = df_clade_finder[\"Qual\"] > 20\n",
    "df_clade_finder = df_clade_finder[cond_qual]\n",
    "# Quitamos las mutaciones problemáticas:\n",
    "#df_clade_finder = df_clade_finder[~df_clade_finder[\"problematic_mutation\"].isin(mutaciones_problematicas)];\n",
    "# Quitamos las posiciones problemáticas:\n",
    "#df_clade_finder = df_clade_finder[~df_clade_finder[\"problematic_region\"].isin(posiciones_problematicas)];\n",
    "#df_clade_finder = df_clade_finder[df_clade_finder[\"ISOGG_haplogroup\"] != 'unknown'];\n",
    "#df_clade_finder = df_clade_finder[~df_clade_finder[\"ISOGG_haplogroup\"].str.contains('not listed')];\n",
    "ref_alleles = df_clade_finder['Ref'].tolist();\n",
    "genotypes = df_clade_finder['Genotype'].tolist();\n",
    "snp_names = df_clade_finder['Name'].tolist();\n",
    "annotated_mutation = df_clade_finder['allele_der'].tolist();\n",
    "for i in range(0,len(ref_alleles)):\n",
    "    # Cuando el genotipo es ancestral:\n",
    "    if ref_alleles[i] == genotypes[i]:\n",
    "        i_value = snp_names[i] + \"-\"\n",
    "        \n",
    "        with open(bcf_route + \"_\" + anotacion + '_for_clade_finder.txt', 'a') as f:\n",
    "            f.write(i_value + ', ')\n",
    "    # Cuando el genotipo es derivado:\n",
    "    else:\n",
    "        if genotypes[i] == annotated_mutation[i]:\n",
    "            i_value = snp_names[i] + \"+\"\n",
    "            with open(bcf_route + \"_\" + anotacion + '_for_clade_finder.txt', 'a') as f:\n",
    "                f.write(i_value + ', ')\n",
    "df_clade_finder.head()"
   ]
  },
  {
   "cell_type": "code",
   "execution_count": null,
   "metadata": {},
   "outputs": [],
   "source": [
    "# Solo los positivos"
   ]
  },
  {
   "cell_type": "code",
   "execution_count": 19,
   "metadata": {},
   "outputs": [
    {
     "data": {
      "text/html": [
       "<div>\n",
       "<style scoped>\n",
       "    .dataframe tbody tr th:only-of-type {\n",
       "        vertical-align: middle;\n",
       "    }\n",
       "\n",
       "    .dataframe tbody tr th {\n",
       "        vertical-align: top;\n",
       "    }\n",
       "\n",
       "    .dataframe thead th {\n",
       "        text-align: right;\n",
       "    }\n",
       "</style>\n",
       "<table border=\"1\" class=\"dataframe\">\n",
       "  <thead>\n",
       "    <tr style=\"text-align: right;\">\n",
       "      <th></th>\n",
       "      <th>start</th>\n",
       "      <th>Ref</th>\n",
       "      <th>Alt</th>\n",
       "      <th>Genotype</th>\n",
       "      <th>problematic_mutation</th>\n",
       "      <th>problematic_region</th>\n",
       "      <th>Qual</th>\n",
       "      <th>chr</th>\n",
       "      <th>Name</th>\n",
       "      <th>haplogroup</th>\n",
       "      <th>mutation</th>\n",
       "      <th>allele_anc</th>\n",
       "      <th>allele_der</th>\n",
       "      <th>ISOGG_haplogroup</th>\n",
       "    </tr>\n",
       "  </thead>\n",
       "  <tbody>\n",
       "    <tr>\n",
       "      <th>218078</th>\n",
       "      <td>10081888</td>\n",
       "      <td>A</td>\n",
       "      <td>None</td>\n",
       "      <td>A</td>\n",
       "      <td></td>\n",
       "      <td>cen</td>\n",
       "      <td>99.5873031616211</td>\n",
       "      <td>chrY</td>\n",
       "      <td>Y214343</td>\n",
       "      <td>NaN</td>\n",
       "      <td>A to C</td>\n",
       "      <td>A</td>\n",
       "      <td>C</td>\n",
       "      <td>J1</td>\n",
       "    </tr>\n",
       "    <tr>\n",
       "      <th>525654</th>\n",
       "      <td>19417819</td>\n",
       "      <td>G</td>\n",
       "      <td>None</td>\n",
       "      <td>G</td>\n",
       "      <td></td>\n",
       "      <td></td>\n",
       "      <td>99.5873031616211</td>\n",
       "      <td>chrY</td>\n",
       "      <td>Y268233</td>\n",
       "      <td>NaN</td>\n",
       "      <td>G to A</td>\n",
       "      <td>G</td>\n",
       "      <td>A</td>\n",
       "      <td>J2</td>\n",
       "    </tr>\n",
       "    <tr>\n",
       "      <th>33148</th>\n",
       "      <td>3936088</td>\n",
       "      <td>T</td>\n",
       "      <td>None</td>\n",
       "      <td>T</td>\n",
       "      <td></td>\n",
       "      <td></td>\n",
       "      <td>99.5873031616211</td>\n",
       "      <td>chrY</td>\n",
       "      <td>Y188109</td>\n",
       "      <td>NaN</td>\n",
       "      <td>T to C</td>\n",
       "      <td>T</td>\n",
       "      <td>C</td>\n",
       "      <td>J1</td>\n",
       "    </tr>\n",
       "    <tr>\n",
       "      <th>657749</th>\n",
       "      <td>26651145</td>\n",
       "      <td>A</td>\n",
       "      <td>None</td>\n",
       "      <td>A</td>\n",
       "      <td></td>\n",
       "      <td>ppr</td>\n",
       "      <td>98.5873031616211</td>\n",
       "      <td>chrY</td>\n",
       "      <td>BY227322</td>\n",
       "      <td>NaN</td>\n",
       "      <td>A to T</td>\n",
       "      <td>A</td>\n",
       "      <td>T</td>\n",
       "      <td>J</td>\n",
       "    </tr>\n",
       "    <tr>\n",
       "      <th>262615</th>\n",
       "      <td>11738801</td>\n",
       "      <td>T</td>\n",
       "      <td>None</td>\n",
       "      <td>T</td>\n",
       "      <td></td>\n",
       "      <td></td>\n",
       "      <td>98.5873031616211</td>\n",
       "      <td>chrY</td>\n",
       "      <td>FT362901</td>\n",
       "      <td>NaN</td>\n",
       "      <td>T to C</td>\n",
       "      <td>T</td>\n",
       "      <td>C</td>\n",
       "      <td>J</td>\n",
       "    </tr>\n",
       "  </tbody>\n",
       "</table>\n",
       "</div>"
      ],
      "text/plain": [
       "           start Ref   Alt Genotype problematic_mutation problematic_region  \\\n",
       "218078  10081888   A  None        A                                     cen   \n",
       "525654  19417819   G  None        G                                           \n",
       "33148    3936088   T  None        T                                           \n",
       "657749  26651145   A  None        A                                     ppr   \n",
       "262615  11738801   T  None        T                                           \n",
       "\n",
       "                    Qual   chr      Name haplogroup mutation allele_anc  \\\n",
       "218078  99.5873031616211  chrY   Y214343        NaN   A to C          A   \n",
       "525654  99.5873031616211  chrY   Y268233        NaN   G to A          G   \n",
       "33148   99.5873031616211  chrY   Y188109        NaN   T to C          T   \n",
       "657749  98.5873031616211  chrY  BY227322        NaN   A to T          A   \n",
       "262615  98.5873031616211  chrY  FT362901        NaN   T to C          T   \n",
       "\n",
       "       allele_der ISOGG_haplogroup  \n",
       "218078          C               J1  \n",
       "525654          A               J2  \n",
       "33148           C               J1  \n",
       "657749          T                J  \n",
       "262615          C                J  "
      ]
     },
     "execution_count": 19,
     "metadata": {},
     "output_type": "execute_result"
    }
   ],
   "source": [
    "basic_haplogroup_prediction = \"J\"\n",
    "posiciones_problematicas = ['par1', 'cen', 'dyz19', 'ppr', 'par2'];\n",
    "#mutaciones_problematicas = ['C to T deamination', 'A to T risk of strand misidentification', 'G to C risk of strand misidentification', 'G to A deamination'];\n",
    "mutaciones_problematicas = ['C to T deamination', 'G to A deamination'];\n",
    "# Filtramos las posiciones ancestrales para que correspondan a la predicción basica:\n",
    "cond_anc_in_pred = (df_final[\"ISOGG_haplogroup\"].str.contains(basic_haplogroup_prediction)) & (df_final[\"Alt\"].isnull())\n",
    "cond_der_all = ~(df_final[\"Alt\"].isnull()) & ~(df_final[\"problematic_mutation\"].isin(mutaciones_problematicas))\n",
    "df_clade_finder = df_final[cond_anc_in_pred | cond_der_all]\n",
    "# Quitamos las mutaciones problemáticas:\n",
    "#df_clade_finder = df_clade_finder[~df_clade_finder[\"problematic_mutation\"].isin(mutaciones_problematicas)];\n",
    "# Quitamos las posiciones problemáticas:\n",
    "#df_clade_finder = df_clade_finder[~df_clade_finder[\"problematic_region\"].isin(posiciones_problematicas)];\n",
    "#df_clade_finder = df_clade_finder[df_clade_finder[\"ISOGG_haplogroup\"] != 'unknown'];\n",
    "#df_clade_finder = df_clade_finder[~df_clade_finder[\"ISOGG_haplogroup\"].str.contains('not listed')];\n",
    "ref_alleles = df_clade_finder['Ref'].tolist();\n",
    "genotypes = df_clade_finder['Genotype'].tolist();\n",
    "snp_names = df_clade_finder['Name'].tolist();\n",
    "annotated_mutation = df_clade_finder['allele_der'].tolist();\n",
    "for i in range(0,len(ref_alleles)):\n",
    "    # Cuando el genotipo no es ancestral:\n",
    "    if not ref_alleles[i] == genotypes[i]:\n",
    "        if genotypes[i] == annotated_mutation[i]:\n",
    "            i_value = snp_names[i] + \"+\";\n",
    "            with open(bcf_route + \"_\" + anotacion + '_for_clade_finder_positives.txt', 'a') as f:\n",
    "                f.write(i_value + ', ');\n",
    "df_clade_finder.head()"
   ]
  },
  {
   "cell_type": "code",
   "execution_count": 49,
   "metadata": {},
   "outputs": [
    {
     "data": {
      "text/html": [
       "<div>\n",
       "<style scoped>\n",
       "    .dataframe tbody tr th:only-of-type {\n",
       "        vertical-align: middle;\n",
       "    }\n",
       "\n",
       "    .dataframe tbody tr th {\n",
       "        vertical-align: top;\n",
       "    }\n",
       "\n",
       "    .dataframe thead th {\n",
       "        text-align: right;\n",
       "    }\n",
       "</style>\n",
       "<table border=\"1\" class=\"dataframe\">\n",
       "  <thead>\n",
       "    <tr style=\"text-align: right;\">\n",
       "      <th></th>\n",
       "      <th>start</th>\n",
       "      <th>Ref</th>\n",
       "      <th>Alt</th>\n",
       "      <th>Genotype</th>\n",
       "      <th>problematic_mutation</th>\n",
       "      <th>problematic_region</th>\n",
       "      <th>Qual</th>\n",
       "      <th>chr</th>\n",
       "      <th>Name</th>\n",
       "      <th>ISOGG_haplogroup</th>\n",
       "      <th>mutation</th>\n",
       "      <th>allele_anc</th>\n",
       "      <th>allele_der</th>\n",
       "    </tr>\n",
       "  </thead>\n",
       "  <tbody>\n",
       "    <tr>\n",
       "      <th>6428</th>\n",
       "      <td>10200631</td>\n",
       "      <td>C</td>\n",
       "      <td>None</td>\n",
       "      <td>C</td>\n",
       "      <td></td>\n",
       "      <td>cen</td>\n",
       "      <td>55.0</td>\n",
       "      <td>chrY</td>\n",
       "      <td>Z19867</td>\n",
       "      <td>T (not listed)</td>\n",
       "      <td>C to T</td>\n",
       "      <td>C</td>\n",
       "      <td>T</td>\n",
       "    </tr>\n",
       "  </tbody>\n",
       "</table>\n",
       "</div>"
      ],
      "text/plain": [
       "         start Ref   Alt Genotype problematic_mutation problematic_region  \\\n",
       "6428  10200631   C  None        C                                     cen   \n",
       "\n",
       "      Qual   chr    Name ISOGG_haplogroup mutation allele_anc allele_der  \n",
       "6428  55.0  chrY  Z19867   T (not listed)   C to T          C          T  "
      ]
     },
     "execution_count": 49,
     "metadata": {},
     "output_type": "execute_result"
    }
   ],
   "source": [
    "df_clade_finder[df_clade_finder[\"Name\"] == \"Z19867\"]"
   ]
  },
  {
   "cell_type": "code",
   "execution_count": 80,
   "metadata": {},
   "outputs": [],
   "source": [
    "df_clade_finder.to_csv(bcf_route + \"_clade_finder_annotated.csv\", encoding='utf-8');"
   ]
  },
  {
   "cell_type": "code",
   "execution_count": 79,
   "metadata": {},
   "outputs": [
    {
     "data": {
      "text/plain": [
       "63072"
      ]
     },
     "execution_count": 79,
     "metadata": {},
     "output_type": "execute_result"
    }
   ],
   "source": [
    "len(df_clade_finder)"
   ]
  },
  {
   "cell_type": "code",
   "execution_count": null,
   "metadata": {},
   "outputs": [],
   "source": [
    "#Para copiar al portapapeles desde línea de comandos:\n",
    "! xclip -sel c < ./alalakh/ALA131b/ALA131b_Y_yleaf_for_clade_finder.txt"
   ]
  },
  {
   "cell_type": "code",
   "execution_count": null,
   "metadata": {},
   "outputs": [],
   "source": []
  },
  {
   "cell_type": "code",
   "execution_count": null,
   "metadata": {},
   "outputs": [],
   "source": [
    "import io\n",
    "import os\n",
    "import pandas as pd\n",
    "\n",
    "\n",
    "def read_vcf(path):\n",
    "    with open(path, 'r') as f:\n",
    "        lines = [l for l in f if not l.startswith('##')]\n",
    "    return pd.read_csv(\n",
    "        io.StringIO(''.join(lines)),\n",
    "        dtype={'#CHROM': str, 'POS': int, 'ID': str, 'REF': str, 'ALT': str,\n",
    "               'QUAL': str, 'FILTER': str, 'INFO': str},\n",
    "        sep='\\t'\n",
    "    ).rename(columns={'#CHROM': 'CHROM'})"
   ]
  },
  {
   "cell_type": "code",
   "execution_count": null,
   "metadata": {},
   "outputs": [],
   "source": []
  },
  {
   "cell_type": "markdown",
   "metadata": {},
   "source": [
    "## Generating the bcf with samtools:"
   ]
  },
  {
   "cell_type": "code",
   "execution_count": null,
   "metadata": {},
   "outputs": [],
   "source": [
    "samtools index ART022.1240K.PE.bam\n",
    "\n",
    "# Antes que indexar, hay que ordenar el .bam\n",
    "\n",
    "samtools sort ART022.1240K.PE.bam -o ART022.1240K.PE.sort.bam\n",
    "\n",
    "samtools index ART022.1240K.PE.sort.bam\n",
    "\n",
    "samtools view -b ART022.1240K.PE.sort.bam Y > chromosome_Y_ART022.extraction.bam\n",
    "\n",
    "# Esto no es siempre necesario:\n",
    "# Para indexar la referencia:\n",
    "samtools faidx reference.fa\n",
    "\n",
    "samtools view -H chromosome_Y_ART022.extraction.bam | sed -e 's/SN:1/SN:chr1/' | sed -e 's/SN:2/SN:chr2/' | sed -e 's/SN:3/SN:chr3/' | sed -e 's/SN:4/SN:chr4/' | sed -e 's/SN:5/SN:chr5/' | sed -e 's/SN:6/SN:chr6/' | sed -e 's/SN:7/SN:chr7/' | sed -e 's/SN:8/SN:chr8/' | sed -e 's/SN:9/SN:chr9/' | sed -e 's/SN:10/SN:chr10/' | sed -e 's/SN:11/SN:chr11/' | sed -e 's/SN:12/SN:chr12/' | sed -e 's/SN:13/SN:chr13/' | sed -e 's/SN:14/SN:chr14/' | sed -e 's/SN:15/SN:chr15/' | sed -e 's/SN:16/SN:chr16/' | sed -e 's/SN:17/SN:chr17/' | sed -e 's/SN:18/SN:chr18/' | sed -e 's/SN:19/SN:chr19/' | sed -e 's/SN:20/SN:chr20/' | sed -e 's/SN:21/SN:chr21/' | sed -e 's/SN:22/SN:chr22/' | sed -e 's/SN:X/SN:chrX/' | sed -e 's/SN:Y/SN:chrY/' | sed -e 's/SN:MT/SN:chrM/' | samtools reheader - chromosome_Y_ART022.extraction.bam > test_chrY.bam\n",
    "\n",
    "# Solo variantes:\n",
    "bcftools mpileup -Ou -f reference.fa chromosome_Y_ART022.extraction.bam | bcftools call -mv -Ob -o calls.bcf\n",
    "\n",
    "# Para retener ancestrales:\n",
    "bcftools mpileup -Ou -f reference.fa chromosome_Y_ART022.extraction.bam | bcftools call -mv -Ob -o calls.bcf\n",
    "\n",
    "# Para pasar a vcf:\n",
    "\n",
    "bcftools view Variant_calling_test/ERR4059728_VK346/VK346_calls.bcf > Variant_calling_test/ERR4059728_VK346/VK346_calls.vcf "
   ]
  },
  {
   "cell_type": "code",
   "execution_count": 3,
   "metadata": {},
   "outputs": [
    {
     "data": {
      "text/plain": [
       "''"
      ]
     },
     "execution_count": 3,
     "metadata": {},
     "output_type": "execute_result"
    }
   ],
   "source": [
    "pysam.sort(\"-o\", sample_name + \"_sort.bam\", sample_name + \".bam\")"
   ]
  },
  {
   "cell_type": "code",
   "execution_count": 4,
   "metadata": {},
   "outputs": [
    {
     "data": {
      "text/plain": [
       "''"
      ]
     },
     "execution_count": 4,
     "metadata": {},
     "output_type": "execute_result"
    }
   ],
   "source": [
    "pysam.index(sample_name + \"_sort.bam\")"
   ]
  },
  {
   "cell_type": "code",
   "execution_count": 39,
   "metadata": {},
   "outputs": [],
   "source": [
    "#pysam.view(\"-b\", sample_name + \"chromosome_Y_extraction.bam\", \"Y\", sample_name + \"_sort.bam\")\n",
    "\n",
    "# terminal_command = \"samtools view -b\" + sample_name + \"_sort.bam\" + \"Y >\" + sample_name + \"chromosome_Y.extraction.bam\"\n",
    "#! printf terminal_command\n",
    "\n",
    "# %%bash\n",
    "# printf terminal_command"
   ]
  },
  {
   "cell_type": "code",
   "execution_count": 6,
   "metadata": {},
   "outputs": [],
   "source": [
    "! samtools view -b ART022.1240K.PE_sort.bam Y > ART022.1240K.PE_chromosome_Y_.extraction.bam"
   ]
  },
  {
   "cell_type": "code",
   "execution_count": null,
   "metadata": {},
   "outputs": [],
   "source": []
  },
  {
   "cell_type": "code",
   "execution_count": null,
   "metadata": {},
   "outputs": [],
   "source": []
  },
  {
   "cell_type": "code",
   "execution_count": null,
   "metadata": {},
   "outputs": [],
   "source": [
    "#samfile = pysam.AlignmentFile(\"ART022.1240K.PE.bam\", \"rb\")\n",
    "samfile = pysam.AlignmentFile(\"chromosome_Y_ART022.extraction.bam\", \"rb\")\n",
    "\n",
    "sam_lista = list(samfile);\n",
    "\n",
    "sam_lista[:10]\n",
    "\n",
    "for x in sam_lista[:10]:\n",
    "    print(x)\n",
    "    \n",
    "    # Para que funcione samfile.fetch() hay que ejecutar en terminal:\n",
    "# samtools index SAMPLE.bam\n",
    "#for read in samfile.fetch('chr1', 100, 120):\n",
    "for read in samfile.fetch(100, 120):\n",
    "     print(read)"
   ]
  },
  {
   "cell_type": "code",
   "execution_count": null,
   "metadata": {},
   "outputs": [],
   "source": []
  },
  {
   "cell_type": "code",
   "execution_count": null,
   "metadata": {},
   "outputs": [],
   "source": [
    "with open('hg19_reference.fa') as topo_file:\n",
    "    for line in topo_file:\n",
    "        if \"chr\" in line:\n",
    "            line = line.replace(\"chr\", \"\");\n",
    "        with open('hg19_modified_reference.fa', 'a') as f:\n",
    "            f.write(line);"
   ]
  },
  {
   "cell_type": "code",
   "execution_count": null,
   "metadata": {},
   "outputs": [],
   "source": []
  }
 ],
 "metadata": {
  "kernelspec": {
   "display_name": "Python 3.9.2 ('bam-to-ychr-calls-venv': venv)",
   "language": "python",
   "name": "python3"
  },
  "language_info": {
   "codemirror_mode": {
    "name": "ipython",
    "version": 3
   },
   "file_extension": ".py",
   "mimetype": "text/x-python",
   "name": "python",
   "nbconvert_exporter": "python",
   "pygments_lexer": "ipython3",
   "version": "3.9.2"
  },
  "vscode": {
   "interpreter": {
    "hash": "10840d93dd29bbec0e23cd075305cb05ec3164aa688e7649155dc240765c7e9a"
   }
  }
 },
 "nbformat": 4,
 "nbformat_minor": 2
}
