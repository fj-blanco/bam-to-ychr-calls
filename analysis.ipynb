{
 "cells": [
  {
   "cell_type": "code",
   "execution_count": 1,
   "metadata": {},
   "outputs": [],
   "source": [
    "import pysam\n",
    "\n",
    "from pysam import VariantFile\n",
    "\n",
    "import pandas as pd\n",
    "\n",
    "from pyliftover import LiftOver"
   ]
  },
  {
   "cell_type": "markdown",
   "metadata": {},
   "source": [
    "## Variant calling from bcf:"
   ]
  },
  {
   "cell_type": "code",
   "execution_count": 11,
   "metadata": {},
   "outputs": [
    {
     "name": "stderr",
     "output_type": "stream",
     "text": [
      "[E::idx_find_and_load] Could not retrieve index file for '/home/javi/Documents/genomics/samples/southern_arc/I13518/I13518_Y.bcf'\n"
     ]
    }
   ],
   "source": [
    "sample = \"I13518\"\n",
    "#bcf_route = \"./arslantepe/\" + sample + \"/\" + sample + \"_Y\"\n",
    "bcf_route = \"/home/javi/Documents/genomics/samples/southern_arc/\" + sample + \"/\" + sample + \"_Y\"\n",
    "\n",
    "bcf_in = VariantFile(bcf_route + \".bcf\")\n",
    "#bcf_in = VariantFile(bcf_route + \".bcf\");  # auto-detect input format\n",
    "#bcf_out = VariantFile('-', 'w', header=bcf_in.header)\n",
    "\n",
    "#for rec in bcf_in.fetch():\n",
    "#    bcf_out.write(rec)"
   ]
  },
  {
   "cell_type": "code",
   "execution_count": null,
   "metadata": {},
   "outputs": [],
   "source": [
    "df_0 = pd.read_csv(\"./genoma_prueba_all_calls.vcf\", sep='\\t', comment='#');\n",
    "df_0.head()"
   ]
  },
  {
   "cell_type": "code",
   "execution_count": null,
   "metadata": {},
   "outputs": [],
   "source": []
  },
  {
   "cell_type": "code",
   "execution_count": 3,
   "metadata": {},
   "outputs": [],
   "source": [
    "# I12162: J-Z2177(xPH185, FGC33287, FT50020, FT51478)\n",
    "# I3983: J-Z1847(xZ500, Z502, Z508, CTS3261, SK1336, Z462, Z7664, Z7658, FT8384, Z6271, Z28583, Y18824, Z488, PH4809, A25797, Z40570, Z40562, Z40560, PF7402, Z517)"
   ]
  },
  {
   "cell_type": "code",
   "execution_count": 3,
   "metadata": {},
   "outputs": [],
   "source": [
    "# Regiones a excluir:\n",
    "par1 = [1,2781479];\n",
    "cen = [10072350,11686750];\n",
    "dyz19 = [20054914,20351054];\n",
    "ppr = [26637971,26673210];\n",
    "par2 = [56887903,57217415];\n",
    "mutations_to_exclude = [\"C to T\", \"A to T\", \"G to C\", \"A to G\"];"
   ]
  },
  {
   "cell_type": "code",
   "execution_count": null,
   "metadata": {},
   "outputs": [],
   "source": [
    "print(bcf_in.header)"
   ]
  },
  {
   "cell_type": "code",
   "execution_count": null,
   "metadata": {},
   "outputs": [],
   "source": []
  },
  {
   "cell_type": "code",
   "execution_count": 4,
   "metadata": {},
   "outputs": [],
   "source": [
    "def check_region(position):\n",
    "    if (par1[0] <= position <= par1[1]):\n",
    "        i_reg = 'par1';\n",
    "    elif (cen[0] <= position <= cen[1]):\n",
    "        i_reg = 'cen';\n",
    "    elif (dyz19[0] <= position <= dyz19[1]):\n",
    "        i_reg = 'dyz19';\n",
    "    elif (ppr[0] <= position <= ppr[1]):\n",
    "        i_reg = 'ppr';\n",
    "    elif (par2[0] <= position <= par2[1]):\n",
    "        i_reg = 'par2';\n",
    "    else:\n",
    "        i_reg = '';\n",
    "    return i_reg\n",
    "def check_mutation(reference, genotype):\n",
    "    i_mut = '';\n",
    "    if (reference == 'C') & (genotype == 'T'):\n",
    "        i_mut = 'C to T deamination';\n",
    "    elif (reference == 'A') & (genotype == 'T'):\n",
    "        i_mut = 'A to T risk of strand misidentification';\n",
    "    elif (reference == 'G') & (genotype == 'C'):\n",
    "        i_mut = 'G to C risk of strand misidentification';\n",
    "    elif (reference == 'G') & (genotype == 'A'):\n",
    "        i_mut = 'G to A deamination';\n",
    "    return i_mut"
   ]
  },
  {
   "cell_type": "markdown",
   "metadata": {},
   "source": [
    "### Cambiando a hg38 y anotando regiones:"
   ]
  },
  {
   "cell_type": "code",
   "execution_count": 5,
   "metadata": {},
   "outputs": [],
   "source": [
    "# Cambiando a hg38 (sin excluir y anotando):\n",
    "vc_list = [];\n",
    "lo = LiftOver('hg19', 'hg38');\n",
    "for rec in bcf_in.fetch():\n",
    "    i_pos_0 = lo.convert_coordinate('chrY', int(rec.pos));\n",
    "    if i_pos_0 != []:\n",
    "        # Anotamos las posiciones no adecuadas para filogenia:\n",
    "        i_pos = int(i_pos_0[0][1]);            \n",
    "        i_reg = check_region(i_pos);\n",
    "        # Extraemos el genotipo:\n",
    "        i_gen_0 = rec.alts;\n",
    "        i_ref = rec.ref;\n",
    "        i_mut = '';\n",
    "        if i_gen_0 == None:\n",
    "            i_gen = i_ref;\n",
    "        else:\n",
    "            i_gen = i_gen_0[0];\n",
    "            i_mut = check_mutation(i_ref, i_gen);\n",
    "        # Creamos la lista:\n",
    "        vc_list.append([i_pos, rec.ref, rec.alts, i_gen, i_mut, i_reg, rec.qual]);\n",
    "    else:\n",
    "        vc_list.append([int(0), rec.ref, rec.alts, rec.alts, '', '', rec.qual]);"
   ]
  },
  {
   "cell_type": "code",
   "execution_count": 7,
   "metadata": {},
   "outputs": [
    {
     "data": {
      "text/plain": [
       "744699"
      ]
     },
     "execution_count": 7,
     "metadata": {},
     "output_type": "execute_result"
    }
   ],
   "source": [
    "len(vc_list)"
   ]
  },
  {
   "cell_type": "code",
   "execution_count": 5,
   "metadata": {},
   "outputs": [
    {
     "data": {
      "text/plain": [
       "{'Y'}"
      ]
     },
     "execution_count": 5,
     "metadata": {},
     "output_type": "execute_result"
    }
   ],
   "source": [
    "chromosomas_contenidos = [];\n",
    "for rec in bcf_in.fetch():\n",
    "        chromosomas_contenidos.append(rec.chrom);\n",
    "set(chromosomas_contenidos)"
   ]
  },
  {
   "cell_type": "markdown",
   "metadata": {},
   "source": [
    "### Cambiando a hg38 excluyendo regiones:"
   ]
  },
  {
   "cell_type": "code",
   "execution_count": null,
   "metadata": {},
   "outputs": [],
   "source": [
    "# Cambiando a hg38:\n",
    "vc_list = [];\n",
    "lo = LiftOver('hg19', 'hg38');\n",
    "for rec in bcf_in.fetch():\n",
    "    i_pos_0 = lo.convert_coordinate('chrY', int(rec.pos));\n",
    "    if i_pos_0 != []:    \n",
    "        i_pos = int(i_pos_0[0][1]);\n",
    "        if ~((par1[0] <= i_pos <= par1[1]) | (cen[0] <= i_pos <= cen[1]) | (dyz19[0] <= i_pos <= dyz19[1]) |\n",
    "           (ppr[0] <= i_pos <= ppr[1]) | (par2[0] <= i_pos <= par2[1])):\n",
    "            vc_list.append([i_pos, rec.ref, rec.alts, rec.qual]);\n",
    "    else:\n",
    "        vc_list.append([int(0), rec.ref, rec.alts, rec.qual]);"
   ]
  },
  {
   "cell_type": "markdown",
   "metadata": {},
   "source": [
    "### Sin convertir excluyendo regiones:"
   ]
  },
  {
   "cell_type": "code",
   "execution_count": 13,
   "metadata": {},
   "outputs": [
    {
     "ename": "SyntaxError",
     "evalue": "invalid syntax (1364058564.py, line 4)",
     "output_type": "error",
     "traceback": [
      "\u001b[0;36m  Input \u001b[0;32mIn [13]\u001b[0;36m\u001b[0m\n\u001b[0;31m    if rec.chrom\u001b[0m\n\u001b[0m                ^\u001b[0m\n\u001b[0;31mSyntaxError\u001b[0m\u001b[0;31m:\u001b[0m invalid syntax\n"
     ]
    }
   ],
   "source": [
    "# Sin convertir:\n",
    "vc_list = [];\n",
    "for rec in bcf_in.fetch():\n",
    "    if rec.chrom:\n",
    "        i_pos_0 = int(rec.pos);\n",
    "        if ~((par1[0] <= i_pos <= par1[1]) | (cen[0] <= i_pos <= cen[1]) | (dyz19[0] <= i_pos <= dyz19[1]) |\n",
    "        (ppr[0] <= i_pos <= ppr[1]) | (par2[0] <= i_pos <= par2[1])):\n",
    "            vc_list.append([i_pos, rec.ref, rec.alts, rec.qual]);"
   ]
  },
  {
   "cell_type": "markdown",
   "metadata": {},
   "source": [
    "### Sin convertir sin excluir regiones:"
   ]
  },
  {
   "cell_type": "code",
   "execution_count": 8,
   "metadata": {},
   "outputs": [],
   "source": [
    "# Sin convertir:\n",
    "vc_list = [];\n",
    "for rec in bcf_in.fetch():\n",
    "    if rec.chrom:\n",
    "        i_pos = int(rec.pos);\n",
    "        vc_list.append([i_pos, rec.ref, rec.alts, rec.qual]);"
   ]
  },
  {
   "cell_type": "code",
   "execution_count": 21,
   "metadata": {},
   "outputs": [
    {
     "data": {
      "text/plain": [
       "154"
      ]
     },
     "execution_count": 21,
     "metadata": {},
     "output_type": "execute_result"
    }
   ],
   "source": [
    "len(vc_list)"
   ]
  },
  {
   "cell_type": "markdown",
   "metadata": {},
   "source": [
    "### Generamos un .csv anotado con las variantes:"
   ]
  },
  {
   "cell_type": "code",
   "execution_count": 6,
   "metadata": {},
   "outputs": [],
   "source": [
    "# Generamos un dataframe auxiliar a partir del bcf:\n",
    "df = pd.DataFrame(vc_list, columns =['Position', 'Ref', 'Alt', 'Genotype', 'problematic_mutation', 'problematic_region', 'Qual'], dtype = str);\n",
    "df = df.rename(columns={'Position': 'start'});\n",
    "df = df.astype({\"start\": int});"
   ]
  },
  {
   "cell_type": "code",
   "execution_count": 7,
   "metadata": {},
   "outputs": [
    {
     "data": {
      "text/html": [
       "<div>\n",
       "<style scoped>\n",
       "    .dataframe tbody tr th:only-of-type {\n",
       "        vertical-align: middle;\n",
       "    }\n",
       "\n",
       "    .dataframe tbody tr th {\n",
       "        vertical-align: top;\n",
       "    }\n",
       "\n",
       "    .dataframe thead th {\n",
       "        text-align: right;\n",
       "    }\n",
       "</style>\n",
       "<table border=\"1\" class=\"dataframe\">\n",
       "  <thead>\n",
       "    <tr style=\"text-align: right;\">\n",
       "      <th></th>\n",
       "      <th>chr</th>\n",
       "      <th>Name</th>\n",
       "      <th>ISOGG_haplogroup</th>\n",
       "      <th>start</th>\n",
       "      <th>mutation</th>\n",
       "      <th>allele_anc</th>\n",
       "      <th>allele_der</th>\n",
       "    </tr>\n",
       "  </thead>\n",
       "  <tbody>\n",
       "    <tr>\n",
       "      <th>0</th>\n",
       "      <td>chry</td>\n",
       "      <td>L984</td>\n",
       "      <td>A0</td>\n",
       "      <td>7193464</td>\n",
       "      <td>G-&gt;T</td>\n",
       "      <td>G</td>\n",
       "      <td>T</td>\n",
       "    </tr>\n",
       "    <tr>\n",
       "      <th>1</th>\n",
       "      <td>chry</td>\n",
       "      <td>V225</td>\n",
       "      <td>A0</td>\n",
       "      <td>7728274</td>\n",
       "      <td>C-&gt;T</td>\n",
       "      <td>C</td>\n",
       "      <td>T</td>\n",
       "    </tr>\n",
       "    <tr>\n",
       "      <th>2</th>\n",
       "      <td>chry</td>\n",
       "      <td>V165</td>\n",
       "      <td>A0</td>\n",
       "      <td>14164925</td>\n",
       "      <td>G-&gt;A</td>\n",
       "      <td>G</td>\n",
       "      <td>A</td>\n",
       "    </tr>\n",
       "    <tr>\n",
       "      <th>3</th>\n",
       "      <td>chry</td>\n",
       "      <td>L1012</td>\n",
       "      <td>A0</td>\n",
       "      <td>19319543</td>\n",
       "      <td>C-&gt;T</td>\n",
       "      <td>C</td>\n",
       "      <td>T</td>\n",
       "    </tr>\n",
       "    <tr>\n",
       "      <th>4</th>\n",
       "      <td>chry</td>\n",
       "      <td>L1001</td>\n",
       "      <td>A0</td>\n",
       "      <td>14280720</td>\n",
       "      <td>G-&gt;T</td>\n",
       "      <td>G</td>\n",
       "      <td>T</td>\n",
       "    </tr>\n",
       "  </tbody>\n",
       "</table>\n",
       "</div>"
      ],
      "text/plain": [
       "    chr   Name ISOGG_haplogroup     start mutation allele_anc allele_der\n",
       "0  chry   L984               A0   7193464     G->T          G          T\n",
       "1  chry   V225               A0   7728274     C->T          C          T\n",
       "2  chry   V165               A0  14164925     G->A          G          A\n",
       "3  chry  L1012               A0  19319543     C->T          C          T\n",
       "4  chry  L1001               A0  14280720     G->T          G          T"
      ]
     },
     "execution_count": 7,
     "metadata": {},
     "output_type": "execute_result"
    }
   ],
   "source": [
    "# Yleaf:\n",
    "anotacion = \"yleaf\"\n",
    "df_yleaf = pd.read_csv('SNP_annotations_hg38/yleaf_WGS_hg38.txt', sep=\"\\t\", header=None)\n",
    "df_yleaf.columns = ['chr', 'Name', 'ISOGG_haplogroup', 'start', 'mutation', 'allele_anc', 'allele_der'];\n",
    "\n",
    "#Ybrowse:\n",
    "df_ybrowse = pd.read_csv('SNP_annotations_hg38/snps_hg38.csv')[(['seqid', 'Name', 'ISOGG_haplogroup', 'start', 'mutation', 'allele_anc', 'allele_der'])];\n",
    "df_ybrowse = df_ybrowse.rename(columns={'seqid': 'chr'});\n",
    "\n",
    "# Seleccionamos todos los de Yleaf en el sample más los de Ybrowse que están en el sample pero no en Yleaf:\n",
    "df_int_yleaf = df_yleaf[df_yleaf[\"start\"].isin(df[\"start\"].tolist())]\n",
    "df_int_ybrowse_no_yleaf = df_ybrowse[(df_ybrowse[\"start\"].isin(df[\"start\"].tolist())) & ~(df_ybrowse[\"start\"].isin(df_int_yleaf[\"start\"].tolist()))]\n",
    "df_anotation = pd.concat([df_int_yleaf, df_int_ybrowse_no_yleaf])\n",
    "df_anotation.head()"
   ]
  },
  {
   "cell_type": "code",
   "execution_count": 8,
   "metadata": {},
   "outputs": [
    {
     "data": {
      "text/html": [
       "<div>\n",
       "<style scoped>\n",
       "    .dataframe tbody tr th:only-of-type {\n",
       "        vertical-align: middle;\n",
       "    }\n",
       "\n",
       "    .dataframe tbody tr th {\n",
       "        vertical-align: top;\n",
       "    }\n",
       "\n",
       "    .dataframe thead th {\n",
       "        text-align: right;\n",
       "    }\n",
       "</style>\n",
       "<table border=\"1\" class=\"dataframe\">\n",
       "  <thead>\n",
       "    <tr style=\"text-align: right;\">\n",
       "      <th></th>\n",
       "      <th>start</th>\n",
       "      <th>Ref</th>\n",
       "      <th>Alt</th>\n",
       "      <th>Genotype</th>\n",
       "      <th>problematic_mutation</th>\n",
       "      <th>problematic_region</th>\n",
       "      <th>Qual</th>\n",
       "      <th>chr</th>\n",
       "      <th>Name</th>\n",
       "      <th>ISOGG_haplogroup</th>\n",
       "      <th>mutation</th>\n",
       "      <th>allele_anc</th>\n",
       "      <th>allele_der</th>\n",
       "    </tr>\n",
       "  </thead>\n",
       "  <tbody>\n",
       "    <tr>\n",
       "      <th>271507</th>\n",
       "      <td>17449023</td>\n",
       "      <td>A</td>\n",
       "      <td>None</td>\n",
       "      <td>A</td>\n",
       "      <td></td>\n",
       "      <td></td>\n",
       "      <td>99.0</td>\n",
       "      <td>chrY</td>\n",
       "      <td>Y191431</td>\n",
       "      <td>R-U106</td>\n",
       "      <td>A to C</td>\n",
       "      <td>A</td>\n",
       "      <td>C</td>\n",
       "    </tr>\n",
       "    <tr>\n",
       "      <th>260057</th>\n",
       "      <td>17014314</td>\n",
       "      <td>G</td>\n",
       "      <td>None</td>\n",
       "      <td>G</td>\n",
       "      <td></td>\n",
       "      <td></td>\n",
       "      <td>99.0</td>\n",
       "      <td>chrY</td>\n",
       "      <td>FGC49870</td>\n",
       "      <td>unknown</td>\n",
       "      <td>G to T</td>\n",
       "      <td>G</td>\n",
       "      <td>T</td>\n",
       "    </tr>\n",
       "    <tr>\n",
       "      <th>153537</th>\n",
       "      <td>12282345</td>\n",
       "      <td>A</td>\n",
       "      <td>None</td>\n",
       "      <td>A</td>\n",
       "      <td></td>\n",
       "      <td></td>\n",
       "      <td>99.0</td>\n",
       "      <td>chrY</td>\n",
       "      <td>Y49486</td>\n",
       "      <td>J2</td>\n",
       "      <td>A to G</td>\n",
       "      <td>A</td>\n",
       "      <td>G</td>\n",
       "    </tr>\n",
       "    <tr>\n",
       "      <th>240740</th>\n",
       "      <td>16018130</td>\n",
       "      <td>T</td>\n",
       "      <td>None</td>\n",
       "      <td>T</td>\n",
       "      <td></td>\n",
       "      <td></td>\n",
       "      <td>99.0</td>\n",
       "      <td>chrY</td>\n",
       "      <td>JFS0371</td>\n",
       "      <td>R1b</td>\n",
       "      <td>T to A</td>\n",
       "      <td>T</td>\n",
       "      <td>A</td>\n",
       "    </tr>\n",
       "    <tr>\n",
       "      <th>240741</th>\n",
       "      <td>16018130</td>\n",
       "      <td>T</td>\n",
       "      <td>None</td>\n",
       "      <td>T</td>\n",
       "      <td></td>\n",
       "      <td></td>\n",
       "      <td>99.0</td>\n",
       "      <td>chrY</td>\n",
       "      <td>BY50396</td>\n",
       "      <td>unknown</td>\n",
       "      <td>T to A</td>\n",
       "      <td>T</td>\n",
       "      <td>A</td>\n",
       "    </tr>\n",
       "  </tbody>\n",
       "</table>\n",
       "</div>"
      ],
      "text/plain": [
       "           start Ref   Alt Genotype problematic_mutation problematic_region  \\\n",
       "271507  17449023   A  None        A                                           \n",
       "260057  17014314   G  None        G                                           \n",
       "153537  12282345   A  None        A                                           \n",
       "240740  16018130   T  None        T                                           \n",
       "240741  16018130   T  None        T                                           \n",
       "\n",
       "        Qual   chr      Name ISOGG_haplogroup mutation allele_anc allele_der  \n",
       "271507  99.0  chrY   Y191431           R-U106   A to C          A          C  \n",
       "260057  99.0  chrY  FGC49870          unknown   G to T          G          T  \n",
       "153537  99.0  chrY    Y49486               J2   A to G          A          G  \n",
       "240740  99.0  chrY   JFS0371              R1b   T to A          T          A  \n",
       "240741  99.0  chrY   BY50396          unknown   T to A          T          A  "
      ]
     },
     "execution_count": 8,
     "metadata": {},
     "output_type": "execute_result"
    }
   ],
   "source": [
    "# Mezclamos:\n",
    "df_final = pd.merge(df, df_anotation, on='start')\n",
    "# En el archivo de ybrowse hay algunas posiciones con distinta referencia (quizá por backmutación)\n",
    "# nos quedamos solo con las que coinciden con nuestra referencia:\n",
    "df_final = df_final[df_final['Ref'] == df_final['allele_anc']]\n",
    "#mutations_to_exclude = [\"C to T\", \"A to T\", \"G to C\", \"A to G\"];\n",
    "#df_final = df_final[~df_final[\"mutation\"].isin(mutations_to_exclude)];\n",
    "df_final = df_final.sort_values(by=['Qual'], ascending=False)\n",
    "# Guardamos:\n",
    "df_final.to_csv(bcf_route + \"_annotated_\" + anotacion + \".csv\", encoding='utf-8', index=False)\n",
    "df_final.head()"
   ]
  },
  {
   "cell_type": "code",
   "execution_count": 66,
   "metadata": {},
   "outputs": [
    {
     "data": {
      "text/html": [
       "<div>\n",
       "<style scoped>\n",
       "    .dataframe tbody tr th:only-of-type {\n",
       "        vertical-align: middle;\n",
       "    }\n",
       "\n",
       "    .dataframe tbody tr th {\n",
       "        vertical-align: top;\n",
       "    }\n",
       "\n",
       "    .dataframe thead th {\n",
       "        text-align: right;\n",
       "    }\n",
       "</style>\n",
       "<table border=\"1\" class=\"dataframe\">\n",
       "  <thead>\n",
       "    <tr style=\"text-align: right;\">\n",
       "      <th></th>\n",
       "      <th>start</th>\n",
       "      <th>Ref</th>\n",
       "      <th>Alt</th>\n",
       "      <th>Genotype</th>\n",
       "      <th>problematic_mutation</th>\n",
       "      <th>problematic_region</th>\n",
       "      <th>Qual</th>\n",
       "      <th>chr</th>\n",
       "      <th>Name</th>\n",
       "      <th>ISOGG_haplogroup</th>\n",
       "      <th>mutation</th>\n",
       "      <th>allele_anc</th>\n",
       "      <th>allele_der</th>\n",
       "    </tr>\n",
       "  </thead>\n",
       "  <tbody>\n",
       "    <tr>\n",
       "      <th>41203</th>\n",
       "      <td>16070426</td>\n",
       "      <td>G</td>\n",
       "      <td>None</td>\n",
       "      <td>G</td>\n",
       "      <td></td>\n",
       "      <td></td>\n",
       "      <td>148.0</td>\n",
       "      <td>chry</td>\n",
       "      <td>Z6065</td>\n",
       "      <td>J2a1a1a2a</td>\n",
       "      <td>G-&gt;T</td>\n",
       "      <td>G</td>\n",
       "      <td>T</td>\n",
       "    </tr>\n",
       "  </tbody>\n",
       "</table>\n",
       "</div>"
      ],
      "text/plain": [
       "          start Ref   Alt Genotype problematic_mutation problematic_region  \\\n",
       "41203  16070426   G  None        G                                           \n",
       "\n",
       "        Qual   chr   Name ISOGG_haplogroup mutation allele_anc allele_der  \n",
       "41203  148.0  chry  Z6065        J2a1a1a2a     G->T          G          T  "
      ]
     },
     "execution_count": 66,
     "metadata": {},
     "output_type": "execute_result"
    }
   ],
   "source": [
    "df_final[df_final[\"Name\"] == \"Z6065\"]"
   ]
  },
  {
   "cell_type": "code",
   "execution_count": 15,
   "metadata": {},
   "outputs": [
    {
     "data": {
      "text/plain": [
       "{('A',), ('C',), ('G',), ('T',), ('TTC',), None}"
      ]
     },
     "execution_count": 15,
     "metadata": {},
     "output_type": "execute_result"
    }
   ],
   "source": [
    "set(df_final[\"Alt\"].tolist())"
   ]
  },
  {
   "cell_type": "code",
   "execution_count": 28,
   "metadata": {},
   "outputs": [],
   "source": [
    "df_final_variants = df_final[~(df_final[\"Alt\"].isnull())]"
   ]
  },
  {
   "cell_type": "code",
   "execution_count": 29,
   "metadata": {},
   "outputs": [
    {
     "data": {
      "text/plain": [
       "44"
      ]
     },
     "execution_count": 29,
     "metadata": {},
     "output_type": "execute_result"
    }
   ],
   "source": [
    "len(df_final_variants)"
   ]
  },
  {
   "cell_type": "code",
   "execution_count": 30,
   "metadata": {},
   "outputs": [],
   "source": [
    "df_final_variants.to_csv(bcf_route + \"_annotated_variants_\" + anotacion + \".csv\", encoding='utf-8');"
   ]
  },
  {
   "cell_type": "code",
   "execution_count": 31,
   "metadata": {},
   "outputs": [],
   "source": [
    "df_final = df_final_variants"
   ]
  },
  {
   "cell_type": "markdown",
   "metadata": {},
   "source": [
    "### Preparamos un .txt con las posiciones observadas para meter en CladeFinder:"
   ]
  },
  {
   "cell_type": "code",
   "execution_count": 9,
   "metadata": {},
   "outputs": [
    {
     "data": {
      "text/html": [
       "<div>\n",
       "<style scoped>\n",
       "    .dataframe tbody tr th:only-of-type {\n",
       "        vertical-align: middle;\n",
       "    }\n",
       "\n",
       "    .dataframe tbody tr th {\n",
       "        vertical-align: top;\n",
       "    }\n",
       "\n",
       "    .dataframe thead th {\n",
       "        text-align: right;\n",
       "    }\n",
       "</style>\n",
       "<table border=\"1\" class=\"dataframe\">\n",
       "  <thead>\n",
       "    <tr style=\"text-align: right;\">\n",
       "      <th></th>\n",
       "      <th>start</th>\n",
       "      <th>Ref</th>\n",
       "      <th>Alt</th>\n",
       "      <th>Genotype</th>\n",
       "      <th>problematic_mutation</th>\n",
       "      <th>problematic_region</th>\n",
       "      <th>Qual</th>\n",
       "      <th>chr</th>\n",
       "      <th>Name</th>\n",
       "      <th>ISOGG_haplogroup</th>\n",
       "      <th>mutation</th>\n",
       "      <th>allele_anc</th>\n",
       "      <th>allele_der</th>\n",
       "    </tr>\n",
       "  </thead>\n",
       "  <tbody>\n",
       "    <tr>\n",
       "      <th>271507</th>\n",
       "      <td>17449023</td>\n",
       "      <td>A</td>\n",
       "      <td>None</td>\n",
       "      <td>A</td>\n",
       "      <td></td>\n",
       "      <td></td>\n",
       "      <td>99.0</td>\n",
       "      <td>chrY</td>\n",
       "      <td>Y191431</td>\n",
       "      <td>R-U106</td>\n",
       "      <td>A to C</td>\n",
       "      <td>A</td>\n",
       "      <td>C</td>\n",
       "    </tr>\n",
       "    <tr>\n",
       "      <th>240740</th>\n",
       "      <td>16018130</td>\n",
       "      <td>T</td>\n",
       "      <td>None</td>\n",
       "      <td>T</td>\n",
       "      <td></td>\n",
       "      <td></td>\n",
       "      <td>99.0</td>\n",
       "      <td>chrY</td>\n",
       "      <td>JFS0371</td>\n",
       "      <td>R1b</td>\n",
       "      <td>T to A</td>\n",
       "      <td>T</td>\n",
       "      <td>A</td>\n",
       "    </tr>\n",
       "    <tr>\n",
       "      <th>325710</th>\n",
       "      <td>20278701</td>\n",
       "      <td>T</td>\n",
       "      <td>None</td>\n",
       "      <td>T</td>\n",
       "      <td></td>\n",
       "      <td>dyz19</td>\n",
       "      <td>99.0</td>\n",
       "      <td>chrY</td>\n",
       "      <td>BY20296</td>\n",
       "      <td>R</td>\n",
       "      <td>T to C</td>\n",
       "      <td>T</td>\n",
       "      <td>C</td>\n",
       "    </tr>\n",
       "    <tr>\n",
       "      <th>325707</th>\n",
       "      <td>20278697</td>\n",
       "      <td>G</td>\n",
       "      <td>None</td>\n",
       "      <td>G</td>\n",
       "      <td></td>\n",
       "      <td>dyz19</td>\n",
       "      <td>99.0</td>\n",
       "      <td>chrY</td>\n",
       "      <td>BY27404</td>\n",
       "      <td>R</td>\n",
       "      <td>G to C</td>\n",
       "      <td>G</td>\n",
       "      <td>C</td>\n",
       "    </tr>\n",
       "    <tr>\n",
       "      <th>325704</th>\n",
       "      <td>20278689</td>\n",
       "      <td>G</td>\n",
       "      <td>None</td>\n",
       "      <td>G</td>\n",
       "      <td></td>\n",
       "      <td>dyz19</td>\n",
       "      <td>99.0</td>\n",
       "      <td>chrY</td>\n",
       "      <td>BY218856</td>\n",
       "      <td>R</td>\n",
       "      <td>G to T</td>\n",
       "      <td>G</td>\n",
       "      <td>T</td>\n",
       "    </tr>\n",
       "  </tbody>\n",
       "</table>\n",
       "</div>"
      ],
      "text/plain": [
       "           start Ref   Alt Genotype problematic_mutation problematic_region  \\\n",
       "271507  17449023   A  None        A                                           \n",
       "240740  16018130   T  None        T                                           \n",
       "325710  20278701   T  None        T                                   dyz19   \n",
       "325707  20278697   G  None        G                                   dyz19   \n",
       "325704  20278689   G  None        G                                   dyz19   \n",
       "\n",
       "        Qual   chr      Name ISOGG_haplogroup mutation allele_anc allele_der  \n",
       "271507  99.0  chrY   Y191431           R-U106   A to C          A          C  \n",
       "240740  99.0  chrY   JFS0371              R1b   T to A          T          A  \n",
       "325710  99.0  chrY   BY20296                R   T to C          T          C  \n",
       "325707  99.0  chrY   BY27404                R   G to C          G          C  \n",
       "325704  99.0  chrY  BY218856                R   G to T          G          T  "
      ]
     },
     "execution_count": 9,
     "metadata": {},
     "output_type": "execute_result"
    }
   ],
   "source": [
    "basic_haplogroup_prediction = \"R\"\n",
    "posiciones_problematicas = ['par1', 'cen', 'dyz19', 'ppr', 'par2'];\n",
    "#mutaciones_problematicas = ['C to T deamination', 'A to T risk of strand misidentification', 'G to C risk of strand misidentification', 'G to A deamination'];\n",
    "mutaciones_problematicas = ['C to T deamination', 'G to A deamination'];\n",
    "# Filtramos las posiciones ancestrales para que correspondan a la predicción basica:\n",
    "cond_anc_in_pred = (df_final[\"ISOGG_haplogroup\"].str.contains(basic_haplogroup_prediction)) & (df_final[\"Alt\"].isnull())\n",
    "cond_der_all = ~(df_final[\"Alt\"].isnull()) & ~(df_final[\"problematic_mutation\"].isin(mutaciones_problematicas))\n",
    "df_clade_finder = df_final[cond_anc_in_pred | cond_der_all]\n",
    "# Quitamos las mutaciones problemáticas:\n",
    "#df_clade_finder = df_clade_finder[~df_clade_finder[\"problematic_mutation\"].isin(mutaciones_problematicas)];\n",
    "# Quitamos las posiciones problemáticas:\n",
    "#df_clade_finder = df_clade_finder[~df_clade_finder[\"problematic_region\"].isin(posiciones_problematicas)];\n",
    "#df_clade_finder = df_clade_finder[df_clade_finder[\"ISOGG_haplogroup\"] != 'unknown'];\n",
    "#df_clade_finder = df_clade_finder[~df_clade_finder[\"ISOGG_haplogroup\"].str.contains('not listed')];\n",
    "ref_alleles = df_clade_finder['Ref'].tolist();\n",
    "genotypes = df_clade_finder['Genotype'].tolist();\n",
    "snp_names = df_clade_finder['Name'].tolist();\n",
    "annotated_mutation = df_clade_finder['allele_der'].tolist();\n",
    "for i in range(0,len(ref_alleles)):\n",
    "    # Cuando el genotipo es ancestral:\n",
    "    if ref_alleles[i] == genotypes[i]:\n",
    "        i_value = snp_names[i] + \"-\";\n",
    "        \n",
    "        with open(bcf_route + \"_\" + anotacion + '_for_clade_finder.txt', 'a') as f:\n",
    "            f.write(i_value + ', ');\n",
    "    # Cuando el genotipo es derivado:\n",
    "    else:\n",
    "        if genotypes[i] == annotated_mutation[i]:\n",
    "            i_value = snp_names[i] + \"+\";\n",
    "            with open(bcf_route + \"_\" + anotacion + '_for_clade_finder.txt', 'a') as f:\n",
    "                f.write(i_value + ', ');\n",
    "df_clade_finder.head()"
   ]
  },
  {
   "cell_type": "code",
   "execution_count": null,
   "metadata": {},
   "outputs": [],
   "source": [
    "# Solo los positivos"
   ]
  },
  {
   "cell_type": "code",
   "execution_count": 10,
   "metadata": {},
   "outputs": [
    {
     "data": {
      "text/html": [
       "<div>\n",
       "<style scoped>\n",
       "    .dataframe tbody tr th:only-of-type {\n",
       "        vertical-align: middle;\n",
       "    }\n",
       "\n",
       "    .dataframe tbody tr th {\n",
       "        vertical-align: top;\n",
       "    }\n",
       "\n",
       "    .dataframe thead th {\n",
       "        text-align: right;\n",
       "    }\n",
       "</style>\n",
       "<table border=\"1\" class=\"dataframe\">\n",
       "  <thead>\n",
       "    <tr style=\"text-align: right;\">\n",
       "      <th></th>\n",
       "      <th>start</th>\n",
       "      <th>Ref</th>\n",
       "      <th>Alt</th>\n",
       "      <th>Genotype</th>\n",
       "      <th>problematic_mutation</th>\n",
       "      <th>problematic_region</th>\n",
       "      <th>Qual</th>\n",
       "      <th>chr</th>\n",
       "      <th>Name</th>\n",
       "      <th>ISOGG_haplogroup</th>\n",
       "      <th>mutation</th>\n",
       "      <th>allele_anc</th>\n",
       "      <th>allele_der</th>\n",
       "    </tr>\n",
       "  </thead>\n",
       "  <tbody>\n",
       "    <tr>\n",
       "      <th>271507</th>\n",
       "      <td>17449023</td>\n",
       "      <td>A</td>\n",
       "      <td>None</td>\n",
       "      <td>A</td>\n",
       "      <td></td>\n",
       "      <td></td>\n",
       "      <td>99.0</td>\n",
       "      <td>chrY</td>\n",
       "      <td>Y191431</td>\n",
       "      <td>R-U106</td>\n",
       "      <td>A to C</td>\n",
       "      <td>A</td>\n",
       "      <td>C</td>\n",
       "    </tr>\n",
       "    <tr>\n",
       "      <th>260057</th>\n",
       "      <td>17014314</td>\n",
       "      <td>G</td>\n",
       "      <td>None</td>\n",
       "      <td>G</td>\n",
       "      <td></td>\n",
       "      <td></td>\n",
       "      <td>99.0</td>\n",
       "      <td>chrY</td>\n",
       "      <td>FGC49870</td>\n",
       "      <td>unknown</td>\n",
       "      <td>G to T</td>\n",
       "      <td>G</td>\n",
       "      <td>T</td>\n",
       "    </tr>\n",
       "    <tr>\n",
       "      <th>153537</th>\n",
       "      <td>12282345</td>\n",
       "      <td>A</td>\n",
       "      <td>None</td>\n",
       "      <td>A</td>\n",
       "      <td></td>\n",
       "      <td></td>\n",
       "      <td>99.0</td>\n",
       "      <td>chrY</td>\n",
       "      <td>Y49486</td>\n",
       "      <td>J2</td>\n",
       "      <td>A to G</td>\n",
       "      <td>A</td>\n",
       "      <td>G</td>\n",
       "    </tr>\n",
       "    <tr>\n",
       "      <th>240740</th>\n",
       "      <td>16018130</td>\n",
       "      <td>T</td>\n",
       "      <td>None</td>\n",
       "      <td>T</td>\n",
       "      <td></td>\n",
       "      <td></td>\n",
       "      <td>99.0</td>\n",
       "      <td>chrY</td>\n",
       "      <td>JFS0371</td>\n",
       "      <td>R1b</td>\n",
       "      <td>T to A</td>\n",
       "      <td>T</td>\n",
       "      <td>A</td>\n",
       "    </tr>\n",
       "    <tr>\n",
       "      <th>240741</th>\n",
       "      <td>16018130</td>\n",
       "      <td>T</td>\n",
       "      <td>None</td>\n",
       "      <td>T</td>\n",
       "      <td></td>\n",
       "      <td></td>\n",
       "      <td>99.0</td>\n",
       "      <td>chrY</td>\n",
       "      <td>BY50396</td>\n",
       "      <td>unknown</td>\n",
       "      <td>T to A</td>\n",
       "      <td>T</td>\n",
       "      <td>A</td>\n",
       "    </tr>\n",
       "  </tbody>\n",
       "</table>\n",
       "</div>"
      ],
      "text/plain": [
       "           start Ref   Alt Genotype problematic_mutation problematic_region  \\\n",
       "271507  17449023   A  None        A                                           \n",
       "260057  17014314   G  None        G                                           \n",
       "153537  12282345   A  None        A                                           \n",
       "240740  16018130   T  None        T                                           \n",
       "240741  16018130   T  None        T                                           \n",
       "\n",
       "        Qual   chr      Name ISOGG_haplogroup mutation allele_anc allele_der  \n",
       "271507  99.0  chrY   Y191431           R-U106   A to C          A          C  \n",
       "260057  99.0  chrY  FGC49870          unknown   G to T          G          T  \n",
       "153537  99.0  chrY    Y49486               J2   A to G          A          G  \n",
       "240740  99.0  chrY   JFS0371              R1b   T to A          T          A  \n",
       "240741  99.0  chrY   BY50396          unknown   T to A          T          A  "
      ]
     },
     "execution_count": 10,
     "metadata": {},
     "output_type": "execute_result"
    }
   ],
   "source": [
    "basic_haplogroup_prediction = \"\"\n",
    "posiciones_problematicas = ['par1', 'cen', 'dyz19', 'ppr', 'par2'];\n",
    "#mutaciones_problematicas = ['C to T deamination', 'A to T risk of strand misidentification', 'G to C risk of strand misidentification', 'G to A deamination'];\n",
    "mutaciones_problematicas = ['C to T deamination', 'G to A deamination'];\n",
    "# Filtramos las posiciones ancestrales para que correspondan a la predicción basica:\n",
    "cond_anc_in_pred = (df_final[\"ISOGG_haplogroup\"].str.contains(basic_haplogroup_prediction)) & (df_final[\"Alt\"].isnull())\n",
    "cond_der_all = ~(df_final[\"Alt\"].isnull()) & ~(df_final[\"problematic_mutation\"].isin(mutaciones_problematicas))\n",
    "df_clade_finder = df_final[cond_anc_in_pred | cond_der_all]\n",
    "# Quitamos las mutaciones problemáticas:\n",
    "#df_clade_finder = df_clade_finder[~df_clade_finder[\"problematic_mutation\"].isin(mutaciones_problematicas)];\n",
    "# Quitamos las posiciones problemáticas:\n",
    "#df_clade_finder = df_clade_finder[~df_clade_finder[\"problematic_region\"].isin(posiciones_problematicas)];\n",
    "#df_clade_finder = df_clade_finder[df_clade_finder[\"ISOGG_haplogroup\"] != 'unknown'];\n",
    "#df_clade_finder = df_clade_finder[~df_clade_finder[\"ISOGG_haplogroup\"].str.contains('not listed')];\n",
    "ref_alleles = df_clade_finder['Ref'].tolist();\n",
    "genotypes = df_clade_finder['Genotype'].tolist();\n",
    "snp_names = df_clade_finder['Name'].tolist();\n",
    "annotated_mutation = df_clade_finder['allele_der'].tolist();\n",
    "for i in range(0,len(ref_alleles)):\n",
    "    # Cuando el genotipo no es ancestral:\n",
    "    if not ref_alleles[i] == genotypes[i]:\n",
    "        if genotypes[i] == annotated_mutation[i]:\n",
    "            i_value = snp_names[i] + \"+\";\n",
    "            with open(bcf_route + \"_\" + anotacion + '_for_clade_finder_positives.txt', 'a') as f:\n",
    "                f.write(i_value + ', ');\n",
    "df_clade_finder.head()"
   ]
  },
  {
   "cell_type": "code",
   "execution_count": 49,
   "metadata": {},
   "outputs": [
    {
     "data": {
      "text/html": [
       "<div>\n",
       "<style scoped>\n",
       "    .dataframe tbody tr th:only-of-type {\n",
       "        vertical-align: middle;\n",
       "    }\n",
       "\n",
       "    .dataframe tbody tr th {\n",
       "        vertical-align: top;\n",
       "    }\n",
       "\n",
       "    .dataframe thead th {\n",
       "        text-align: right;\n",
       "    }\n",
       "</style>\n",
       "<table border=\"1\" class=\"dataframe\">\n",
       "  <thead>\n",
       "    <tr style=\"text-align: right;\">\n",
       "      <th></th>\n",
       "      <th>start</th>\n",
       "      <th>Ref</th>\n",
       "      <th>Alt</th>\n",
       "      <th>Genotype</th>\n",
       "      <th>problematic_mutation</th>\n",
       "      <th>problematic_region</th>\n",
       "      <th>Qual</th>\n",
       "      <th>chr</th>\n",
       "      <th>Name</th>\n",
       "      <th>ISOGG_haplogroup</th>\n",
       "      <th>mutation</th>\n",
       "      <th>allele_anc</th>\n",
       "      <th>allele_der</th>\n",
       "    </tr>\n",
       "  </thead>\n",
       "  <tbody>\n",
       "    <tr>\n",
       "      <th>6428</th>\n",
       "      <td>10200631</td>\n",
       "      <td>C</td>\n",
       "      <td>None</td>\n",
       "      <td>C</td>\n",
       "      <td></td>\n",
       "      <td>cen</td>\n",
       "      <td>55.0</td>\n",
       "      <td>chrY</td>\n",
       "      <td>Z19867</td>\n",
       "      <td>T (not listed)</td>\n",
       "      <td>C to T</td>\n",
       "      <td>C</td>\n",
       "      <td>T</td>\n",
       "    </tr>\n",
       "  </tbody>\n",
       "</table>\n",
       "</div>"
      ],
      "text/plain": [
       "         start Ref   Alt Genotype problematic_mutation problematic_region  \\\n",
       "6428  10200631   C  None        C                                     cen   \n",
       "\n",
       "      Qual   chr    Name ISOGG_haplogroup mutation allele_anc allele_der  \n",
       "6428  55.0  chrY  Z19867   T (not listed)   C to T          C          T  "
      ]
     },
     "execution_count": 49,
     "metadata": {},
     "output_type": "execute_result"
    }
   ],
   "source": [
    "df_clade_finder[df_clade_finder[\"Name\"] == \"Z19867\"]"
   ]
  },
  {
   "cell_type": "code",
   "execution_count": 80,
   "metadata": {},
   "outputs": [],
   "source": [
    "df_clade_finder.to_csv(bcf_route + \"_clade_finder_annotated.csv\", encoding='utf-8');"
   ]
  },
  {
   "cell_type": "code",
   "execution_count": 79,
   "metadata": {},
   "outputs": [
    {
     "data": {
      "text/plain": [
       "63072"
      ]
     },
     "execution_count": 79,
     "metadata": {},
     "output_type": "execute_result"
    }
   ],
   "source": [
    "len(df_clade_finder)"
   ]
  },
  {
   "cell_type": "code",
   "execution_count": null,
   "metadata": {},
   "outputs": [],
   "source": [
    "#Para copiar al portapapeles desde línea de comandos:\n",
    "! xclip -sel c < ./alalakh/ALA131b/ALA131b_Y_yleaf_for_clade_finder.txt"
   ]
  },
  {
   "cell_type": "code",
   "execution_count": null,
   "metadata": {},
   "outputs": [],
   "source": []
  },
  {
   "cell_type": "code",
   "execution_count": null,
   "metadata": {},
   "outputs": [],
   "source": [
    "import io\n",
    "import os\n",
    "import pandas as pd\n",
    "\n",
    "\n",
    "def read_vcf(path):\n",
    "    with open(path, 'r') as f:\n",
    "        lines = [l for l in f if not l.startswith('##')]\n",
    "    return pd.read_csv(\n",
    "        io.StringIO(''.join(lines)),\n",
    "        dtype={'#CHROM': str, 'POS': int, 'ID': str, 'REF': str, 'ALT': str,\n",
    "               'QUAL': str, 'FILTER': str, 'INFO': str},\n",
    "        sep='\\t'\n",
    "    ).rename(columns={'#CHROM': 'CHROM'})"
   ]
  },
  {
   "cell_type": "code",
   "execution_count": null,
   "metadata": {},
   "outputs": [],
   "source": []
  },
  {
   "cell_type": "markdown",
   "metadata": {},
   "source": [
    "## Generating the bcf with samtools:"
   ]
  },
  {
   "cell_type": "code",
   "execution_count": null,
   "metadata": {},
   "outputs": [],
   "source": [
    "samtools index ART022.1240K.PE.bam\n",
    "\n",
    "# Antes que indexar, hay que ordenar el .bam\n",
    "\n",
    "samtools sort ART022.1240K.PE.bam -o ART022.1240K.PE.sort.bam\n",
    "\n",
    "samtools index ART022.1240K.PE.sort.bam\n",
    "\n",
    "samtools view -b ART022.1240K.PE.sort.bam Y > chromosome_Y_ART022.extraction.bam\n",
    "\n",
    "# Esto no es siempre necesario:\n",
    "# Para indexar la referencia:\n",
    "samtools faidx reference.fa\n",
    "\n",
    "samtools view -H chromosome_Y_ART022.extraction.bam | sed -e 's/SN:1/SN:chr1/' | sed -e 's/SN:2/SN:chr2/' | sed -e 's/SN:3/SN:chr3/' | sed -e 's/SN:4/SN:chr4/' | sed -e 's/SN:5/SN:chr5/' | sed -e 's/SN:6/SN:chr6/' | sed -e 's/SN:7/SN:chr7/' | sed -e 's/SN:8/SN:chr8/' | sed -e 's/SN:9/SN:chr9/' | sed -e 's/SN:10/SN:chr10/' | sed -e 's/SN:11/SN:chr11/' | sed -e 's/SN:12/SN:chr12/' | sed -e 's/SN:13/SN:chr13/' | sed -e 's/SN:14/SN:chr14/' | sed -e 's/SN:15/SN:chr15/' | sed -e 's/SN:16/SN:chr16/' | sed -e 's/SN:17/SN:chr17/' | sed -e 's/SN:18/SN:chr18/' | sed -e 's/SN:19/SN:chr19/' | sed -e 's/SN:20/SN:chr20/' | sed -e 's/SN:21/SN:chr21/' | sed -e 's/SN:22/SN:chr22/' | sed -e 's/SN:X/SN:chrX/' | sed -e 's/SN:Y/SN:chrY/' | sed -e 's/SN:MT/SN:chrM/' | samtools reheader - chromosome_Y_ART022.extraction.bam > test_chrY.bam\n",
    "\n",
    "# Solo variantes:\n",
    "bcftools mpileup -Ou -f reference.fa chromosome_Y_ART022.extraction.bam | bcftools call -mv -Ob -o calls.bcf\n",
    "\n",
    "# Para retener ancestrales:\n",
    "bcftools mpileup -Ou -f reference.fa chromosome_Y_ART022.extraction.bam | bcftools call -mv -Ob -o calls.bcf\n",
    "\n",
    "# Para pasar a vcf:\n",
    "\n",
    "bcftools view Variant_calling_test/ERR4059728_VK346/VK346_calls.bcf > Variant_calling_test/ERR4059728_VK346/VK346_calls.vcf "
   ]
  },
  {
   "cell_type": "code",
   "execution_count": 3,
   "metadata": {},
   "outputs": [
    {
     "data": {
      "text/plain": [
       "''"
      ]
     },
     "execution_count": 3,
     "metadata": {},
     "output_type": "execute_result"
    }
   ],
   "source": [
    "pysam.sort(\"-o\", sample_name + \"_sort.bam\", sample_name + \".bam\")"
   ]
  },
  {
   "cell_type": "code",
   "execution_count": 4,
   "metadata": {},
   "outputs": [
    {
     "data": {
      "text/plain": [
       "''"
      ]
     },
     "execution_count": 4,
     "metadata": {},
     "output_type": "execute_result"
    }
   ],
   "source": [
    "pysam.index(sample_name + \"_sort.bam\")"
   ]
  },
  {
   "cell_type": "code",
   "execution_count": 39,
   "metadata": {},
   "outputs": [],
   "source": [
    "#pysam.view(\"-b\", sample_name + \"chromosome_Y_extraction.bam\", \"Y\", sample_name + \"_sort.bam\")\n",
    "\n",
    "# terminal_command = \"samtools view -b\" + sample_name + \"_sort.bam\" + \"Y >\" + sample_name + \"chromosome_Y.extraction.bam\"\n",
    "#! printf terminal_command\n",
    "\n",
    "# %%bash\n",
    "# printf terminal_command"
   ]
  },
  {
   "cell_type": "code",
   "execution_count": 6,
   "metadata": {},
   "outputs": [],
   "source": [
    "! samtools view -b ART022.1240K.PE_sort.bam Y > ART022.1240K.PE_chromosome_Y_.extraction.bam"
   ]
  },
  {
   "cell_type": "code",
   "execution_count": null,
   "metadata": {},
   "outputs": [],
   "source": []
  },
  {
   "cell_type": "code",
   "execution_count": null,
   "metadata": {},
   "outputs": [],
   "source": []
  },
  {
   "cell_type": "code",
   "execution_count": null,
   "metadata": {},
   "outputs": [],
   "source": [
    "#samfile = pysam.AlignmentFile(\"ART022.1240K.PE.bam\", \"rb\")\n",
    "samfile = pysam.AlignmentFile(\"chromosome_Y_ART022.extraction.bam\", \"rb\")\n",
    "\n",
    "sam_lista = list(samfile);\n",
    "\n",
    "sam_lista[:10]\n",
    "\n",
    "for x in sam_lista[:10]:\n",
    "    print(x)\n",
    "    \n",
    "    # Para que funcione samfile.fetch() hay que ejecutar en terminal:\n",
    "# samtools index SAMPLE.bam\n",
    "#for read in samfile.fetch('chr1', 100, 120):\n",
    "for read in samfile.fetch(100, 120):\n",
    "     print(read)"
   ]
  },
  {
   "cell_type": "code",
   "execution_count": null,
   "metadata": {},
   "outputs": [],
   "source": []
  },
  {
   "cell_type": "code",
   "execution_count": null,
   "metadata": {},
   "outputs": [],
   "source": [
    "with open('hg19_reference.fa') as topo_file:\n",
    "    for line in topo_file:\n",
    "        if \"chr\" in line:\n",
    "            line = line.replace(\"chr\", \"\");\n",
    "        with open('hg19_modified_reference.fa', 'a') as f:\n",
    "            f.write(line);"
   ]
  },
  {
   "cell_type": "code",
   "execution_count": null,
   "metadata": {},
   "outputs": [],
   "source": []
  }
 ],
 "metadata": {
  "kernelspec": {
   "display_name": "Python 3.9.2 64-bit",
   "language": "python",
   "name": "python3"
  },
  "language_info": {
   "codemirror_mode": {
    "name": "ipython",
    "version": 3
   },
   "file_extension": ".py",
   "mimetype": "text/x-python",
   "name": "python",
   "nbconvert_exporter": "python",
   "pygments_lexer": "ipython3",
   "version": "3.9.2"
  },
  "vscode": {
   "interpreter": {
    "hash": "916dbcbb3f70747c44a77c7bcd40155683ae19c65e1c03b4aa3499c5328201f1"
   }
  }
 },
 "nbformat": 4,
 "nbformat_minor": 2
}
